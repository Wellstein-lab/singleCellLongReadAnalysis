{
 "cells": [
  {
   "cell_type": "markdown",
   "id": "79c62b5f-4530-4e98-9429-bec66527a74f",
   "metadata": {},
   "source": [
    "Protein Domain Analysis\n",
    "\n",
    "Constructed the counts by running [countProteinDomainsPerExperiment](https://github.com/Wellstein-lab/singleCellLongReadAnalysis/blob/main/CountProteinDomainsPerExperiment.md) as described\n",
    "\n",
    "The output from the [make_protein_counts_matrix.py](https://github.com/Wellstein-lab/singleCellLongReadAnalysis/blob/main/bin/make_protein_counts_matrix.py) is then input into this notebook to make a heatma."
   ]
  },
  {
   "cell_type": "code",
   "execution_count": 1,
   "id": "7a0a13bb-f7d2-48b3-8308-fef6b197843b",
   "metadata": {},
   "outputs": [],
   "source": [
    "if (!require(\"BiocManager\", quietly = TRUE))\n",
    "    install.packages(\"BiocManager\", repos = \"https://cloud.r-project.org\")\n"
   ]
  },
  {
   "cell_type": "code",
   "execution_count": 2,
   "id": "2f04c3be-ecdb-4ecd-ad96-cd99b30c64b4",
   "metadata": {},
   "outputs": [
    {
     "name": "stderr",
     "output_type": "stream",
     "text": [
      "'getOption(\"repos\")' replaces Bioconductor standard repositories, see\n",
      "'help(\"repositories\", package = \"BiocManager\")' for details.\n",
      "Replacement repositories:\n",
      "    CRAN: https://cran.r-project.org\n",
      "\n",
      "Bioconductor version 3.18 (BiocManager 1.30.22), R 4.3.1 (2023-06-16)\n",
      "\n",
      "Warning message:\n",
      "“package(s) not installed when version(s) same as or greater than current; use\n",
      "  `force = TRUE` to re-install: 'dplyr'”\n",
      "Old packages: 'evaluate', 'lifecycle', 'scales'\n",
      "\n",
      "'getOption(\"repos\")' replaces Bioconductor standard repositories, see\n",
      "'help(\"repositories\", package = \"BiocManager\")' for details.\n",
      "Replacement repositories:\n",
      "    CRAN: https://cran.r-project.org\n",
      "\n",
      "Bioconductor version 3.18 (BiocManager 1.30.22), R 4.3.1 (2023-06-16)\n",
      "\n",
      "Warning message:\n",
      "“package(s) not installed when version(s) same as or greater than current; use\n",
      "  `force = TRUE` to re-install: 'Glimma'”\n",
      "Old packages: 'evaluate', 'lifecycle', 'scales'\n",
      "\n",
      "'getOption(\"repos\")' replaces Bioconductor standard repositories, see\n",
      "'help(\"repositories\", package = \"BiocManager\")' for details.\n",
      "Replacement repositories:\n",
      "    CRAN: https://cran.r-project.org\n",
      "\n",
      "Bioconductor version 3.18 (BiocManager 1.30.22), R 4.3.1 (2023-06-16)\n",
      "\n",
      "Warning message:\n",
      "“package(s) not installed when version(s) same as or greater than current; use\n",
      "  `force = TRUE` to re-install: 'edgeR'”\n",
      "Old packages: 'evaluate', 'lifecycle', 'scales'\n",
      "\n"
     ]
    }
   ],
   "source": [
    "BiocManager::install(\"dplyr\")\n",
    "BiocManager::install(\"Glimma\")\n",
    "BiocManager::install(\"edgeR\")"
   ]
  },
  {
   "cell_type": "code",
   "execution_count": 3,
   "id": "6a5693e5-7f52-4651-a30c-2ba5a1899cd2",
   "metadata": {},
   "outputs": [
    {
     "name": "stderr",
     "output_type": "stream",
     "text": [
      "\n",
      "Attaching package: ‘dplyr’\n",
      "\n",
      "\n",
      "The following objects are masked from ‘package:stats’:\n",
      "\n",
      "    filter, lag\n",
      "\n",
      "\n",
      "The following objects are masked from ‘package:base’:\n",
      "\n",
      "    intersect, setdiff, setequal, union\n",
      "\n",
      "\n",
      "Loading required package: limma\n",
      "\n"
     ]
    }
   ],
   "source": [
    "library(Glimma)\n",
    "library(dplyr)\n",
    "library(edgeR)"
   ]
  },
  {
   "cell_type": "code",
   "execution_count": 4,
   "id": "8326bdb4-4f22-492e-ae03-5049dac50e27",
   "metadata": {},
   "outputs": [
    {
     "data": {
      "text/html": [
       "'/Users/annedeslattesmays/Desktop/projects/singleCellLongReadAnalysis/ipynb'"
      ],
      "text/latex": [
       "'/Users/annedeslattesmays/Desktop/projects/singleCellLongReadAnalysis/ipynb'"
      ],
      "text/markdown": [
       "'/Users/annedeslattesmays/Desktop/projects/singleCellLongReadAnalysis/ipynb'"
      ],
      "text/plain": [
       "[1] \"/Users/annedeslattesmays/Desktop/projects/singleCellLongReadAnalysis/ipynb\""
      ]
     },
     "metadata": {},
     "output_type": "display_data"
    }
   ],
   "source": [
    "getwd()"
   ]
  },
  {
   "cell_type": "code",
   "execution_count": 5,
   "id": "9efb6cf3-4204-44df-906a-aa961bdcb948",
   "metadata": {},
   "outputs": [],
   "source": [
    "setwd(\"../data/protein_matrices/\")\n"
   ]
  },
  {
   "cell_type": "code",
   "execution_count": 6,
   "id": "ebbacdca-4a2c-49fb-bddd-d8f8ae75c06c",
   "metadata": {},
   "outputs": [
    {
     "data": {
      "text/html": [
       "'/Users/annedeslattesmays/Desktop/projects/singleCellLongReadAnalysis/data/protein_matrices'"
      ],
      "text/latex": [
       "'/Users/annedeslattesmays/Desktop/projects/singleCellLongReadAnalysis/data/protein\\_matrices'"
      ],
      "text/markdown": [
       "'/Users/annedeslattesmays/Desktop/projects/singleCellLongReadAnalysis/data/protein_matrices'"
      ],
      "text/plain": [
       "[1] \"/Users/annedeslattesmays/Desktop/projects/singleCellLongReadAnalysis/data/protein_matrices\""
      ]
     },
     "metadata": {},
     "output_type": "display_data"
    }
   ],
   "source": [
    "getwd()\n"
   ]
  },
  {
   "cell_type": "code",
   "execution_count": 7,
   "id": "48a148e7-6e39-4f98-a6e8-064ba01cec41",
   "metadata": {},
   "outputs": [],
   "source": [
    "cts <- as.matrix(read.csv(\"SRSF5_protein_domain_counts.csv\",sep=\",\"))"
   ]
  },
  {
   "cell_type": "code",
   "execution_count": 8,
   "id": "f7042628-a92d-4d75-b8ed-c73ead297c43",
   "metadata": {},
   "outputs": [
    {
     "data": {
      "text/html": [
       "<style>\n",
       ".list-inline {list-style: none; margin:0; padding: 0}\n",
       ".list-inline>li {display: inline-block}\n",
       ".list-inline>li:not(:last-child)::after {content: \"\\00b7\"; padding: 0 .5ex}\n",
       "</style>\n",
       "<ol class=list-inline><li>7</li><li>46</li></ol>\n"
      ],
      "text/latex": [
       "\\begin{enumerate*}\n",
       "\\item 7\n",
       "\\item 46\n",
       "\\end{enumerate*}\n"
      ],
      "text/markdown": [
       "1. 7\n",
       "2. 46\n",
       "\n",
       "\n"
      ],
      "text/plain": [
       "[1]  7 46"
      ]
     },
     "metadata": {},
     "output_type": "display_data"
    }
   ],
   "source": [
    "dim(cts)"
   ]
  },
  {
   "cell_type": "code",
   "execution_count": 9,
   "id": "cdb44633-004e-477f-8704-db6315957ee6",
   "metadata": {},
   "outputs": [
    {
     "data": {
      "text/html": [
       "<table class=\"dataframe\">\n",
       "<caption>A matrix: 4 × 5 of type chr</caption>\n",
       "<thead>\n",
       "\t<tr><th scope=col>Protein</th><th scope=col>Domain_Name</th><th scope=col>AA_position</th><th scope=col>Domain_Sequence</th><th scope=col>Alin_neg_clust0</th></tr>\n",
       "</thead>\n",
       "<tbody>\n",
       "\t<tr><td>SRSF5</td><td>RRM_1                    </td><td>4-74   </td><td>CRVFIGRLNPAAREKDVERFFKGYGRIRDIDLKRGFGFVEFEDPRDADDAVYELDGKELCSERVTIEHARA   </td><td>0</td></tr>\n",
       "\t<tr><td>SRSF5</td><td>Basic_and_acidic_residues</td><td>73-104 </td><td>RARSRGGRGRGRYSDRFSSRRPRNDRRNAPPV                                          </td><td>0</td></tr>\n",
       "\t<tr><td>SRSF5</td><td>Disordered               </td><td>73-105 </td><td>RARSRGGRGRGRYSDRFSSRRPRNDRRNAPPVR                                         </td><td>0</td></tr>\n",
       "\t<tr><td>SRSF5</td><td>RRM_2                    </td><td>108-181</td><td>NRLIVENLSSRVSWQDLKDFMRQAGEVTFADAHRPKLNEGVVEFASYGDLKNAIEKLSGKEINGRKIKLIEGSK</td><td>0</td></tr>\n",
       "</tbody>\n",
       "</table>\n"
      ],
      "text/latex": [
       "A matrix: 4 × 5 of type chr\n",
       "\\begin{tabular}{lllll}\n",
       " Protein & Domain\\_Name & AA\\_position & Domain\\_Sequence & Alin\\_neg\\_clust0\\\\\n",
       "\\hline\n",
       "\t SRSF5 & RRM\\_1                     & 4-74    & CRVFIGRLNPAAREKDVERFFKGYGRIRDIDLKRGFGFVEFEDPRDADDAVYELDGKELCSERVTIEHARA    & 0\\\\\n",
       "\t SRSF5 & Basic\\_and\\_acidic\\_residues & 73-104  & RARSRGGRGRGRYSDRFSSRRPRNDRRNAPPV                                           & 0\\\\\n",
       "\t SRSF5 & Disordered                & 73-105  & RARSRGGRGRGRYSDRFSSRRPRNDRRNAPPVR                                          & 0\\\\\n",
       "\t SRSF5 & RRM\\_2                     & 108-181 & NRLIVENLSSRVSWQDLKDFMRQAGEVTFADAHRPKLNEGVVEFASYGDLKNAIEKLSGKEINGRKIKLIEGSK & 0\\\\\n",
       "\\end{tabular}\n"
      ],
      "text/markdown": [
       "\n",
       "A matrix: 4 × 5 of type chr\n",
       "\n",
       "| Protein | Domain_Name | AA_position | Domain_Sequence | Alin_neg_clust0 |\n",
       "|---|---|---|---|---|\n",
       "| SRSF5 | RRM_1                     | 4-74    | CRVFIGRLNPAAREKDVERFFKGYGRIRDIDLKRGFGFVEFEDPRDADDAVYELDGKELCSERVTIEHARA    | 0 |\n",
       "| SRSF5 | Basic_and_acidic_residues | 73-104  | RARSRGGRGRGRYSDRFSSRRPRNDRRNAPPV                                           | 0 |\n",
       "| SRSF5 | Disordered                | 73-105  | RARSRGGRGRGRYSDRFSSRRPRNDRRNAPPVR                                          | 0 |\n",
       "| SRSF5 | RRM_2                     | 108-181 | NRLIVENLSSRVSWQDLKDFMRQAGEVTFADAHRPKLNEGVVEFASYGDLKNAIEKLSGKEINGRKIKLIEGSK | 0 |\n",
       "\n"
      ],
      "text/plain": [
       "     Protein Domain_Name               AA_position\n",
       "[1,] SRSF5   RRM_1                     4-74       \n",
       "[2,] SRSF5   Basic_and_acidic_residues 73-104     \n",
       "[3,] SRSF5   Disordered                73-105     \n",
       "[4,] SRSF5   RRM_2                     108-181    \n",
       "     Domain_Sequence                                                           \n",
       "[1,] CRVFIGRLNPAAREKDVERFFKGYGRIRDIDLKRGFGFVEFEDPRDADDAVYELDGKELCSERVTIEHARA   \n",
       "[2,] RARSRGGRGRGRYSDRFSSRRPRNDRRNAPPV                                          \n",
       "[3,] RARSRGGRGRGRYSDRFSSRRPRNDRRNAPPVR                                         \n",
       "[4,] NRLIVENLSSRVSWQDLKDFMRQAGEVTFADAHRPKLNEGVVEFASYGDLKNAIEKLSGKEINGRKIKLIEGSK\n",
       "     Alin_neg_clust0\n",
       "[1,] 0              \n",
       "[2,] 0              \n",
       "[3,] 0              \n",
       "[4,] 0              "
      ]
     },
     "metadata": {},
     "output_type": "display_data"
    }
   ],
   "source": [
    "cts[1:4,1:5]"
   ]
  },
  {
   "cell_type": "code",
   "execution_count": 10,
   "id": "c3e92332-561e-4198-87c1-9f8938b8fc4b",
   "metadata": {},
   "outputs": [],
   "source": [
    "featureData <- cts[,1:4]"
   ]
  },
  {
   "cell_type": "code",
   "execution_count": 11,
   "id": "d72741b1-0d49-41de-9cc6-78ff11525e5a",
   "metadata": {},
   "outputs": [],
   "source": [
    "cts <- cts[,5:dim(cts)[2]]"
   ]
  },
  {
   "cell_type": "code",
   "execution_count": 12,
   "id": "76618ff4-f52a-406c-8d28-0627b0849285",
   "metadata": {},
   "outputs": [
    {
     "data": {
      "text/html": [
       "<table class=\"dataframe\">\n",
       "<caption>A matrix: 2 × 4 of type chr</caption>\n",
       "<thead>\n",
       "\t<tr><th scope=col>Protein</th><th scope=col>Domain_Name</th><th scope=col>AA_position</th><th scope=col>Domain_Sequence</th></tr>\n",
       "</thead>\n",
       "<tbody>\n",
       "\t<tr><td>SRSF5</td><td>RRM_1                    </td><td>4-74  </td><td>CRVFIGRLNPAAREKDVERFFKGYGRIRDIDLKRGFGFVEFEDPRDADDAVYELDGKELCSERVTIEHARA</td></tr>\n",
       "\t<tr><td>SRSF5</td><td>Basic_and_acidic_residues</td><td>73-104</td><td>RARSRGGRGRGRYSDRFSSRRPRNDRRNAPPV                                       </td></tr>\n",
       "</tbody>\n",
       "</table>\n"
      ],
      "text/latex": [
       "A matrix: 2 × 4 of type chr\n",
       "\\begin{tabular}{llll}\n",
       " Protein & Domain\\_Name & AA\\_position & Domain\\_Sequence\\\\\n",
       "\\hline\n",
       "\t SRSF5 & RRM\\_1                     & 4-74   & CRVFIGRLNPAAREKDVERFFKGYGRIRDIDLKRGFGFVEFEDPRDADDAVYELDGKELCSERVTIEHARA\\\\\n",
       "\t SRSF5 & Basic\\_and\\_acidic\\_residues & 73-104 & RARSRGGRGRGRYSDRFSSRRPRNDRRNAPPV                                       \\\\\n",
       "\\end{tabular}\n"
      ],
      "text/markdown": [
       "\n",
       "A matrix: 2 × 4 of type chr\n",
       "\n",
       "| Protein | Domain_Name | AA_position | Domain_Sequence |\n",
       "|---|---|---|---|\n",
       "| SRSF5 | RRM_1                     | 4-74   | CRVFIGRLNPAAREKDVERFFKGYGRIRDIDLKRGFGFVEFEDPRDADDAVYELDGKELCSERVTIEHARA |\n",
       "| SRSF5 | Basic_and_acidic_residues | 73-104 | RARSRGGRGRGRYSDRFSSRRPRNDRRNAPPV                                        |\n",
       "\n"
      ],
      "text/plain": [
       "     Protein Domain_Name               AA_position\n",
       "[1,] SRSF5   RRM_1                     4-74       \n",
       "[2,] SRSF5   Basic_and_acidic_residues 73-104     \n",
       "     Domain_Sequence                                                        \n",
       "[1,] CRVFIGRLNPAAREKDVERFFKGYGRIRDIDLKRGFGFVEFEDPRDADDAVYELDGKELCSERVTIEHARA\n",
       "[2,] RARSRGGRGRGRYSDRFSSRRPRNDRRNAPPV                                       "
      ]
     },
     "metadata": {},
     "output_type": "display_data"
    }
   ],
   "source": [
    "head(featureData,2)"
   ]
  },
  {
   "cell_type": "code",
   "execution_count": 13,
   "id": "c1159601-71ca-4346-848b-045adb323711",
   "metadata": {},
   "outputs": [],
   "source": [
    "sample_names <- c(\"ALN_0\",\"ALN_1\",\"ALN_2\",\"ALN_3\",\"ALN_4\",\"ALN_5\",\"ALN_6\",\"ALN_7\",\"ALN_8\",\"ALN_9\",\n",
    "                  \"BMB_0\",\"BMAB_0\",\"BMB_1\",\"BMAB_1\",\"BMB_2\",\"BMAB_2\",\"BMB_3\",\"BMAB_3\",\n",
    "                  \"BMB_4\",\"BMAB_4\",\"BMB_5\",\"BMB_6\",\n",
    "                  \"BMB_7\",\"BMAB_7\",\"BMB_8\",\"BMAB_8\",\"BMB_9\",\"BMAB_9\",\n",
    "                  \"BLN_0\",\"BLN_1\",\"BLN_2\",\"BLN_3\",\"BLN_4\",\"BLN_5\",\"BLN_6\",\"BLN_7\",\"BLN_8\",\"BLN_9\",\n",
    "                  \"bulk_BM_1b\",\"bulk_BM_2\",\n",
    "                  \"bulk_LN_7_1\",\"bulk_LN_7_2\")\n",
    "cluster_group <- c(\"0\",\"1\", \"2\",\"3\",\"4\",\"5\",\"6\",\"7\",\"8\",\"9\",\n",
    "                   \"0\",\"0\",\"1\",\"1\",\"2\",\"2\",\"3\",\"3\",\n",
    "                   \"4\",\"4\",\"5\",\"6\",\n",
    "                   \"7\",\"7\",\"8\",\"8\",\"9\",\"9\",\n",
    "                   \"0\",\"1\",\"2\",\"3\",\"4\",\"5\",\"6\",\"7\",\"8\",\"9\",\n",
    "                   \"all\",\"all\",\"all\",\"all\")\n"
   ]
  },
  {
   "cell_type": "code",
   "execution_count": 14,
   "id": "74f9bd6b-451d-4e3c-98a5-841298cd6cc3",
   "metadata": {},
   "outputs": [
    {
     "data": {
      "text/html": [
       "<style>\n",
       ".list-inline {list-style: none; margin:0; padding: 0}\n",
       ".list-inline>li {display: inline-block}\n",
       ".list-inline>li:not(:last-child)::after {content: \"\\00b7\"; padding: 0 .5ex}\n",
       "</style>\n",
       "<ol class=list-inline><li>7</li><li>42</li></ol>\n"
      ],
      "text/latex": [
       "\\begin{enumerate*}\n",
       "\\item 7\n",
       "\\item 42\n",
       "\\end{enumerate*}\n"
      ],
      "text/markdown": [
       "1. 7\n",
       "2. 42\n",
       "\n",
       "\n"
      ],
      "text/plain": [
       "[1]  7 42"
      ]
     },
     "metadata": {},
     "output_type": "display_data"
    },
    {
     "data": {
      "text/html": [
       "<table class=\"dataframe\">\n",
       "<caption>A matrix: 7 × 7 of type chr</caption>\n",
       "<thead>\n",
       "\t<tr><th scope=col>BLN_7</th><th scope=col>BLN_8</th><th scope=col>BLN_9</th><th scope=col>bulk_BM_1b</th><th scope=col>bulk_BM_2</th><th scope=col>bulk_LN_7_1</th><th scope=col>bulk_LN_7_2</th></tr>\n",
       "</thead>\n",
       "<tbody>\n",
       "\t<tr><td>0</td><td>0</td><td>0</td><td> 0</td><td> 0</td><td> 0</td><td> 0</td></tr>\n",
       "\t<tr><td>0</td><td>0</td><td>0</td><td>10</td><td>11</td><td> 9</td><td>10</td></tr>\n",
       "\t<tr><td>0</td><td>0</td><td>0</td><td>10</td><td>11</td><td> 9</td><td>10</td></tr>\n",
       "\t<tr><td>0</td><td>0</td><td>0</td><td> 4</td><td> 6</td><td> 5</td><td> 6</td></tr>\n",
       "\t<tr><td>0</td><td>0</td><td>0</td><td>11</td><td>13</td><td>10</td><td>13</td></tr>\n",
       "\t<tr><td>0</td><td>0</td><td>0</td><td>11</td><td>13</td><td>10</td><td>13</td></tr>\n",
       "\t<tr><td>0</td><td>0</td><td>0</td><td>11</td><td>13</td><td>10</td><td>13</td></tr>\n",
       "</tbody>\n",
       "</table>\n"
      ],
      "text/latex": [
       "A matrix: 7 × 7 of type chr\n",
       "\\begin{tabular}{lllllll}\n",
       " BLN\\_7 & BLN\\_8 & BLN\\_9 & bulk\\_BM\\_1b & bulk\\_BM\\_2 & bulk\\_LN\\_7\\_1 & bulk\\_LN\\_7\\_2\\\\\n",
       "\\hline\n",
       "\t 0 & 0 & 0 &  0 &  0 &  0 &  0\\\\\n",
       "\t 0 & 0 & 0 & 10 & 11 &  9 & 10\\\\\n",
       "\t 0 & 0 & 0 & 10 & 11 &  9 & 10\\\\\n",
       "\t 0 & 0 & 0 &  4 &  6 &  5 &  6\\\\\n",
       "\t 0 & 0 & 0 & 11 & 13 & 10 & 13\\\\\n",
       "\t 0 & 0 & 0 & 11 & 13 & 10 & 13\\\\\n",
       "\t 0 & 0 & 0 & 11 & 13 & 10 & 13\\\\\n",
       "\\end{tabular}\n"
      ],
      "text/markdown": [
       "\n",
       "A matrix: 7 × 7 of type chr\n",
       "\n",
       "| BLN_7 | BLN_8 | BLN_9 | bulk_BM_1b | bulk_BM_2 | bulk_LN_7_1 | bulk_LN_7_2 |\n",
       "|---|---|---|---|---|---|---|\n",
       "| 0 | 0 | 0 |  0 |  0 |  0 |  0 |\n",
       "| 0 | 0 | 0 | 10 | 11 |  9 | 10 |\n",
       "| 0 | 0 | 0 | 10 | 11 |  9 | 10 |\n",
       "| 0 | 0 | 0 |  4 |  6 |  5 |  6 |\n",
       "| 0 | 0 | 0 | 11 | 13 | 10 | 13 |\n",
       "| 0 | 0 | 0 | 11 | 13 | 10 | 13 |\n",
       "| 0 | 0 | 0 | 11 | 13 | 10 | 13 |\n",
       "\n"
      ],
      "text/plain": [
       "     BLN_7 BLN_8 BLN_9 bulk_BM_1b bulk_BM_2 bulk_LN_7_1 bulk_LN_7_2\n",
       "[1,] 0     0     0      0          0         0           0         \n",
       "[2,] 0     0     0     10         11         9          10         \n",
       "[3,] 0     0     0     10         11         9          10         \n",
       "[4,] 0     0     0      4          6         5           6         \n",
       "[5,] 0     0     0     11         13        10          13         \n",
       "[6,] 0     0     0     11         13        10          13         \n",
       "[7,] 0     0     0     11         13        10          13         "
      ]
     },
     "metadata": {},
     "output_type": "display_data"
    }
   ],
   "source": [
    "dim(cts)\n",
    "colnames(cts) <- (sample_names)\n",
    "cts[,36:42]"
   ]
  },
  {
   "cell_type": "code",
   "execution_count": 15,
   "id": "e1df3b45-dffb-48a4-bc26-c5272c9ceb53",
   "metadata": {},
   "outputs": [
    {
     "data": {
      "text/html": [
       "<table class=\"dataframe\">\n",
       "<caption>A data.frame: 7 × 7</caption>\n",
       "<thead>\n",
       "\t<tr><th scope=col>ALN_0</th><th scope=col>ALN_1</th><th scope=col>ALN_2</th><th scope=col>ALN_3</th><th scope=col>ALN_4</th><th scope=col>ALN_5</th><th scope=col>ALN_6</th></tr>\n",
       "\t<tr><th scope=col>&lt;chr&gt;</th><th scope=col>&lt;chr&gt;</th><th scope=col>&lt;chr&gt;</th><th scope=col>&lt;chr&gt;</th><th scope=col>&lt;chr&gt;</th><th scope=col>&lt;chr&gt;</th><th scope=col>&lt;chr&gt;</th></tr>\n",
       "</thead>\n",
       "<tbody>\n",
       "\t<tr><td>0</td><td>0</td><td>0</td><td>0</td><td>0</td><td>0</td><td>0</td></tr>\n",
       "\t<tr><td>0</td><td>0</td><td>1</td><td>0</td><td>1</td><td>0</td><td>0</td></tr>\n",
       "\t<tr><td>0</td><td>0</td><td>1</td><td>0</td><td>1</td><td>0</td><td>0</td></tr>\n",
       "\t<tr><td>0</td><td>0</td><td>0</td><td>0</td><td>0</td><td>0</td><td>0</td></tr>\n",
       "\t<tr><td>0</td><td>0</td><td>0</td><td>0</td><td>0</td><td>0</td><td>0</td></tr>\n",
       "\t<tr><td>0</td><td>0</td><td>0</td><td>0</td><td>0</td><td>0</td><td>0</td></tr>\n",
       "\t<tr><td>0</td><td>0</td><td>0</td><td>0</td><td>0</td><td>0</td><td>0</td></tr>\n",
       "</tbody>\n",
       "</table>\n"
      ],
      "text/latex": [
       "A data.frame: 7 × 7\n",
       "\\begin{tabular}{lllllll}\n",
       " ALN\\_0 & ALN\\_1 & ALN\\_2 & ALN\\_3 & ALN\\_4 & ALN\\_5 & ALN\\_6\\\\\n",
       " <chr> & <chr> & <chr> & <chr> & <chr> & <chr> & <chr>\\\\\n",
       "\\hline\n",
       "\t 0 & 0 & 0 & 0 & 0 & 0 & 0\\\\\n",
       "\t 0 & 0 & 1 & 0 & 1 & 0 & 0\\\\\n",
       "\t 0 & 0 & 1 & 0 & 1 & 0 & 0\\\\\n",
       "\t 0 & 0 & 0 & 0 & 0 & 0 & 0\\\\\n",
       "\t 0 & 0 & 0 & 0 & 0 & 0 & 0\\\\\n",
       "\t 0 & 0 & 0 & 0 & 0 & 0 & 0\\\\\n",
       "\t 0 & 0 & 0 & 0 & 0 & 0 & 0\\\\\n",
       "\\end{tabular}\n"
      ],
      "text/markdown": [
       "\n",
       "A data.frame: 7 × 7\n",
       "\n",
       "| ALN_0 &lt;chr&gt; | ALN_1 &lt;chr&gt; | ALN_2 &lt;chr&gt; | ALN_3 &lt;chr&gt; | ALN_4 &lt;chr&gt; | ALN_5 &lt;chr&gt; | ALN_6 &lt;chr&gt; |\n",
       "|---|---|---|---|---|---|---|\n",
       "| 0 | 0 | 0 | 0 | 0 | 0 | 0 |\n",
       "| 0 | 0 | 1 | 0 | 1 | 0 | 0 |\n",
       "| 0 | 0 | 1 | 0 | 1 | 0 | 0 |\n",
       "| 0 | 0 | 0 | 0 | 0 | 0 | 0 |\n",
       "| 0 | 0 | 0 | 0 | 0 | 0 | 0 |\n",
       "| 0 | 0 | 0 | 0 | 0 | 0 | 0 |\n",
       "| 0 | 0 | 0 | 0 | 0 | 0 | 0 |\n",
       "\n"
      ],
      "text/plain": [
       "  ALN_0 ALN_1 ALN_2 ALN_3 ALN_4 ALN_5 ALN_6\n",
       "1 0     0     0     0     0     0     0    \n",
       "2 0     0     1     0     1     0     0    \n",
       "3 0     0     1     0     1     0     0    \n",
       "4 0     0     0     0     0     0     0    \n",
       "5 0     0     0     0     0     0     0    \n",
       "6 0     0     0     0     0     0     0    \n",
       "7 0     0     0     0     0     0     0    "
      ]
     },
     "metadata": {},
     "output_type": "display_data"
    }
   ],
   "source": [
    "cts_nobulk <- data.frame(cts[,1:38])\n",
    "cts_nobulk[,1:7]"
   ]
  },
  {
   "cell_type": "code",
   "execution_count": 16,
   "id": "7dde7183-75c6-4d29-89df-bc62d6affdb8",
   "metadata": {},
   "outputs": [
    {
     "data": {
      "text/html": [
       "FALSE"
      ],
      "text/latex": [
       "FALSE"
      ],
      "text/markdown": [
       "FALSE"
      ],
      "text/plain": [
       "[1] FALSE"
      ]
     },
     "metadata": {},
     "output_type": "display_data"
    }
   ],
   "source": [
    "is.numeric(cts_nobulk)"
   ]
  },
  {
   "cell_type": "code",
   "execution_count": 17,
   "id": "66be6db1-812b-4c6d-a90c-639c7b01bb4e",
   "metadata": {},
   "outputs": [
    {
     "data": {
      "text/html": [
       "<table class=\"dataframe\">\n",
       "<caption>A matrix: 7 × 7 of type int</caption>\n",
       "<thead>\n",
       "\t<tr><th scope=col>ALN_0</th><th scope=col>ALN_1</th><th scope=col>ALN_2</th><th scope=col>ALN_3</th><th scope=col>ALN_4</th><th scope=col>ALN_5</th><th scope=col>ALN_6</th></tr>\n",
       "</thead>\n",
       "<tbody>\n",
       "\t<tr><td>1</td><td>1</td><td>1</td><td>1</td><td>1</td><td>1</td><td>1</td></tr>\n",
       "\t<tr><td>1</td><td>1</td><td>2</td><td>1</td><td>2</td><td>1</td><td>1</td></tr>\n",
       "\t<tr><td>1</td><td>1</td><td>2</td><td>1</td><td>2</td><td>1</td><td>1</td></tr>\n",
       "\t<tr><td>1</td><td>1</td><td>1</td><td>1</td><td>1</td><td>1</td><td>1</td></tr>\n",
       "\t<tr><td>1</td><td>1</td><td>1</td><td>1</td><td>1</td><td>1</td><td>1</td></tr>\n",
       "\t<tr><td>1</td><td>1</td><td>1</td><td>1</td><td>1</td><td>1</td><td>1</td></tr>\n",
       "\t<tr><td>1</td><td>1</td><td>1</td><td>1</td><td>1</td><td>1</td><td>1</td></tr>\n",
       "</tbody>\n",
       "</table>\n"
      ],
      "text/latex": [
       "A matrix: 7 × 7 of type int\n",
       "\\begin{tabular}{lllllll}\n",
       " ALN\\_0 & ALN\\_1 & ALN\\_2 & ALN\\_3 & ALN\\_4 & ALN\\_5 & ALN\\_6\\\\\n",
       "\\hline\n",
       "\t 1 & 1 & 1 & 1 & 1 & 1 & 1\\\\\n",
       "\t 1 & 1 & 2 & 1 & 2 & 1 & 1\\\\\n",
       "\t 1 & 1 & 2 & 1 & 2 & 1 & 1\\\\\n",
       "\t 1 & 1 & 1 & 1 & 1 & 1 & 1\\\\\n",
       "\t 1 & 1 & 1 & 1 & 1 & 1 & 1\\\\\n",
       "\t 1 & 1 & 1 & 1 & 1 & 1 & 1\\\\\n",
       "\t 1 & 1 & 1 & 1 & 1 & 1 & 1\\\\\n",
       "\\end{tabular}\n"
      ],
      "text/markdown": [
       "\n",
       "A matrix: 7 × 7 of type int\n",
       "\n",
       "| ALN_0 | ALN_1 | ALN_2 | ALN_3 | ALN_4 | ALN_5 | ALN_6 |\n",
       "|---|---|---|---|---|---|---|\n",
       "| 1 | 1 | 1 | 1 | 1 | 1 | 1 |\n",
       "| 1 | 1 | 2 | 1 | 2 | 1 | 1 |\n",
       "| 1 | 1 | 2 | 1 | 2 | 1 | 1 |\n",
       "| 1 | 1 | 1 | 1 | 1 | 1 | 1 |\n",
       "| 1 | 1 | 1 | 1 | 1 | 1 | 1 |\n",
       "| 1 | 1 | 1 | 1 | 1 | 1 | 1 |\n",
       "| 1 | 1 | 1 | 1 | 1 | 1 | 1 |\n",
       "\n"
      ],
      "text/plain": [
       "     ALN_0 ALN_1 ALN_2 ALN_3 ALN_4 ALN_5 ALN_6\n",
       "[1,] 1     1     1     1     1     1     1    \n",
       "[2,] 1     1     2     1     2     1     1    \n",
       "[3,] 1     1     2     1     2     1     1    \n",
       "[4,] 1     1     1     1     1     1     1    \n",
       "[5,] 1     1     1     1     1     1     1    \n",
       "[6,] 1     1     1     1     1     1     1    \n",
       "[7,] 1     1     1     1     1     1     1    "
      ]
     },
     "metadata": {},
     "output_type": "display_data"
    },
    {
     "data": {
      "text/html": [
       "TRUE"
      ],
      "text/latex": [
       "TRUE"
      ],
      "text/markdown": [
       "TRUE"
      ],
      "text/plain": [
       "[1] TRUE"
      ]
     },
     "metadata": {},
     "output_type": "display_data"
    }
   ],
   "source": [
    "cts_nobulk <- data.matrix(cts_nobulk)\n",
    "cts_nobulk[,1:7]\n",
    "is.numeric(cts_nobulk)"
   ]
  },
  {
   "cell_type": "code",
   "execution_count": 18,
   "id": "b5c54046-8b3e-4c97-bbf0-6ee3e0d298e5",
   "metadata": {},
   "outputs": [
    {
     "name": "stderr",
     "output_type": "stream",
     "text": [
      "'getOption(\"repos\")' replaces Bioconductor standard repositories, see\n",
      "'help(\"repositories\", package = \"BiocManager\")' for details.\n",
      "Replacement repositories:\n",
      "    CRAN: https://cran.r-project.org\n",
      "\n",
      "Bioconductor version 3.18 (BiocManager 1.30.22), R 4.3.1 (2023-06-16)\n",
      "\n",
      "Warning message:\n",
      "“package(s) not installed when version(s) same as or greater than current; use\n",
      "  `force = TRUE` to re-install: 'limma'”\n",
      "Old packages: 'evaluate', 'lifecycle', 'scales'\n",
      "\n"
     ]
    }
   ],
   "source": [
    "# lets look at limma/voom\n",
    "BiocManager::install(\"limma\")"
   ]
  },
  {
   "cell_type": "code",
   "execution_count": 19,
   "id": "e30dfcee-76b1-4efb-b56d-948f7a8de44f",
   "metadata": {},
   "outputs": [
    {
     "name": "stderr",
     "output_type": "stream",
     "text": [
      "'getOption(\"repos\")' replaces Bioconductor standard repositories, see\n",
      "'help(\"repositories\", package = \"BiocManager\")' for details.\n",
      "Replacement repositories:\n",
      "    CRAN: https://cran.r-project.org\n",
      "\n",
      "Bioconductor version 3.18 (BiocManager 1.30.22), R 4.3.1 (2023-06-16)\n",
      "\n",
      "Warning message:\n",
      "“package(s) not installed when version(s) same as or greater than current; use\n",
      "  `force = TRUE` to re-install: 'statmod'”\n",
      "Old packages: 'evaluate', 'lifecycle', 'scales'\n",
      "\n"
     ]
    }
   ],
   "source": [
    "BiocManager::install(\"statmod\")"
   ]
  },
  {
   "cell_type": "code",
   "execution_count": 20,
   "id": "da040196-cae0-4a10-ab43-0da299c3a79f",
   "metadata": {},
   "outputs": [],
   "source": [
    "library(limma)\n",
    "library(edgeR)\n",
    "library(statmod)"
   ]
  },
  {
   "cell_type": "code",
   "execution_count": 21,
   "id": "d9e51d30-1986-4a7a-a9eb-a3b6fd0562ca",
   "metadata": {},
   "outputs": [],
   "source": [
    "# making a counts matrix\n",
    "dge <- DGEList(counts=cts_nobulk)"
   ]
  },
  {
   "cell_type": "code",
   "execution_count": 22,
   "id": "693ed341-3d5c-4ee8-a123-ba6a366271c5",
   "metadata": {},
   "outputs": [
    {
     "data": {
      "text/html": [
       "<style>\n",
       ".list-inline {list-style: none; margin:0; padding: 0}\n",
       ".list-inline>li {display: inline-block}\n",
       ".list-inline>li:not(:last-child)::after {content: \"\\00b7\"; padding: 0 .5ex}\n",
       "</style>\n",
       "<ol class=list-inline><li>'ALN_0'</li><li>'ALN_1'</li><li>'ALN_2'</li><li>'ALN_3'</li><li>'ALN_4'</li><li>'ALN_5'</li><li>'ALN_6'</li><li>'ALN_7'</li><li>'ALN_8'</li><li>'ALN_9'</li><li>'BMB_0'</li><li>'BMAB_0'</li><li>'BMB_1'</li><li>'BMAB_1'</li><li>'BMB_2'</li><li>'BMAB_2'</li><li>'BMB_3'</li><li>'BMAB_3'</li><li>'BMB_4'</li><li>'BMAB_4'</li><li>'BMB_5'</li><li>'BMB_6'</li><li>'BMB_7'</li><li>'BMAB_7'</li><li>'BMB_8'</li><li>'BMAB_8'</li><li>'BMB_9'</li><li>'BMAB_9'</li><li>'BLN_0'</li><li>'BLN_1'</li><li>'BLN_2'</li><li>'BLN_3'</li><li>'BLN_4'</li><li>'BLN_5'</li><li>'BLN_6'</li><li>'BLN_7'</li><li>'BLN_8'</li><li>'BLN_9'</li></ol>\n"
      ],
      "text/latex": [
       "\\begin{enumerate*}\n",
       "\\item 'ALN\\_0'\n",
       "\\item 'ALN\\_1'\n",
       "\\item 'ALN\\_2'\n",
       "\\item 'ALN\\_3'\n",
       "\\item 'ALN\\_4'\n",
       "\\item 'ALN\\_5'\n",
       "\\item 'ALN\\_6'\n",
       "\\item 'ALN\\_7'\n",
       "\\item 'ALN\\_8'\n",
       "\\item 'ALN\\_9'\n",
       "\\item 'BMB\\_0'\n",
       "\\item 'BMAB\\_0'\n",
       "\\item 'BMB\\_1'\n",
       "\\item 'BMAB\\_1'\n",
       "\\item 'BMB\\_2'\n",
       "\\item 'BMAB\\_2'\n",
       "\\item 'BMB\\_3'\n",
       "\\item 'BMAB\\_3'\n",
       "\\item 'BMB\\_4'\n",
       "\\item 'BMAB\\_4'\n",
       "\\item 'BMB\\_5'\n",
       "\\item 'BMB\\_6'\n",
       "\\item 'BMB\\_7'\n",
       "\\item 'BMAB\\_7'\n",
       "\\item 'BMB\\_8'\n",
       "\\item 'BMAB\\_8'\n",
       "\\item 'BMB\\_9'\n",
       "\\item 'BMAB\\_9'\n",
       "\\item 'BLN\\_0'\n",
       "\\item 'BLN\\_1'\n",
       "\\item 'BLN\\_2'\n",
       "\\item 'BLN\\_3'\n",
       "\\item 'BLN\\_4'\n",
       "\\item 'BLN\\_5'\n",
       "\\item 'BLN\\_6'\n",
       "\\item 'BLN\\_7'\n",
       "\\item 'BLN\\_8'\n",
       "\\item 'BLN\\_9'\n",
       "\\end{enumerate*}\n"
      ],
      "text/markdown": [
       "1. 'ALN_0'\n",
       "2. 'ALN_1'\n",
       "3. 'ALN_2'\n",
       "4. 'ALN_3'\n",
       "5. 'ALN_4'\n",
       "6. 'ALN_5'\n",
       "7. 'ALN_6'\n",
       "8. 'ALN_7'\n",
       "9. 'ALN_8'\n",
       "10. 'ALN_9'\n",
       "11. 'BMB_0'\n",
       "12. 'BMAB_0'\n",
       "13. 'BMB_1'\n",
       "14. 'BMAB_1'\n",
       "15. 'BMB_2'\n",
       "16. 'BMAB_2'\n",
       "17. 'BMB_3'\n",
       "18. 'BMAB_3'\n",
       "19. 'BMB_4'\n",
       "20. 'BMAB_4'\n",
       "21. 'BMB_5'\n",
       "22. 'BMB_6'\n",
       "23. 'BMB_7'\n",
       "24. 'BMAB_7'\n",
       "25. 'BMB_8'\n",
       "26. 'BMAB_8'\n",
       "27. 'BMB_9'\n",
       "28. 'BMAB_9'\n",
       "29. 'BLN_0'\n",
       "30. 'BLN_1'\n",
       "31. 'BLN_2'\n",
       "32. 'BLN_3'\n",
       "33. 'BLN_4'\n",
       "34. 'BLN_5'\n",
       "35. 'BLN_6'\n",
       "36. 'BLN_7'\n",
       "37. 'BLN_8'\n",
       "38. 'BLN_9'\n",
       "\n",
       "\n"
      ],
      "text/plain": [
       " [1] \"ALN_0\"  \"ALN_1\"  \"ALN_2\"  \"ALN_3\"  \"ALN_4\"  \"ALN_5\"  \"ALN_6\"  \"ALN_7\" \n",
       " [9] \"ALN_8\"  \"ALN_9\"  \"BMB_0\"  \"BMAB_0\" \"BMB_1\"  \"BMAB_1\" \"BMB_2\"  \"BMAB_2\"\n",
       "[17] \"BMB_3\"  \"BMAB_3\" \"BMB_4\"  \"BMAB_4\" \"BMB_5\"  \"BMB_6\"  \"BMB_7\"  \"BMAB_7\"\n",
       "[25] \"BMB_8\"  \"BMAB_8\" \"BMB_9\"  \"BMAB_9\" \"BLN_0\"  \"BLN_1\"  \"BLN_2\"  \"BLN_3\" \n",
       "[33] \"BLN_4\"  \"BLN_5\"  \"BLN_6\"  \"BLN_7\"  \"BLN_8\"  \"BLN_9\" "
      ]
     },
     "metadata": {},
     "output_type": "display_data"
    }
   ],
   "source": [
    "colnames(dge)"
   ]
  },
  {
   "cell_type": "code",
   "execution_count": 23,
   "id": "6664a001-18a0-4d0b-8fcb-8bfc5ac8c8c7",
   "metadata": {},
   "outputs": [
    {
     "data": {
      "text/html": [
       "<dl>\n",
       "\t<dt>$counts</dt>\n",
       "\t\t<dd><table class=\"dataframe\">\n",
       "<caption>A matrix: 2 × 38 of type int</caption>\n",
       "<thead>\n",
       "\t<tr><th></th><th scope=col>ALN_0</th><th scope=col>ALN_1</th><th scope=col>ALN_2</th><th scope=col>ALN_3</th><th scope=col>ALN_4</th><th scope=col>ALN_5</th><th scope=col>ALN_6</th><th scope=col>ALN_7</th><th scope=col>ALN_8</th><th scope=col>ALN_9</th><th scope=col>⋯</th><th scope=col>BLN_0</th><th scope=col>BLN_1</th><th scope=col>BLN_2</th><th scope=col>BLN_3</th><th scope=col>BLN_4</th><th scope=col>BLN_5</th><th scope=col>BLN_6</th><th scope=col>BLN_7</th><th scope=col>BLN_8</th><th scope=col>BLN_9</th></tr>\n",
       "</thead>\n",
       "<tbody>\n",
       "\t<tr><th scope=row>1</th><td>1</td><td>1</td><td>1</td><td>1</td><td>1</td><td>1</td><td>1</td><td>1</td><td>1</td><td>1</td><td>⋯</td><td>1</td><td>1</td><td>1</td><td>1</td><td>1</td><td>1</td><td>1</td><td>1</td><td>1</td><td>1</td></tr>\n",
       "\t<tr><th scope=row>2</th><td>1</td><td>1</td><td>2</td><td>1</td><td>2</td><td>1</td><td>1</td><td>1</td><td>1</td><td>1</td><td>⋯</td><td>1</td><td>2</td><td>1</td><td>2</td><td>1</td><td>2</td><td>1</td><td>1</td><td>1</td><td>1</td></tr>\n",
       "</tbody>\n",
       "</table>\n",
       "</dd>\n",
       "\t<dt>$samples</dt>\n",
       "\t\t<dd><table class=\"dataframe\">\n",
       "<caption>A data.frame: 38 × 3</caption>\n",
       "<thead>\n",
       "\t<tr><th></th><th scope=col>group</th><th scope=col>lib.size</th><th scope=col>norm.factors</th></tr>\n",
       "\t<tr><th></th><th scope=col>&lt;fct&gt;</th><th scope=col>&lt;dbl&gt;</th><th scope=col>&lt;dbl&gt;</th></tr>\n",
       "</thead>\n",
       "<tbody>\n",
       "\t<tr><th scope=row>ALN_0</th><td>1</td><td> 7</td><td>1</td></tr>\n",
       "\t<tr><th scope=row>ALN_1</th><td>1</td><td> 7</td><td>1</td></tr>\n",
       "\t<tr><th scope=row>ALN_2</th><td>1</td><td> 9</td><td>1</td></tr>\n",
       "\t<tr><th scope=row>ALN_3</th><td>1</td><td> 7</td><td>1</td></tr>\n",
       "\t<tr><th scope=row>ALN_4</th><td>1</td><td> 9</td><td>1</td></tr>\n",
       "\t<tr><th scope=row>ALN_5</th><td>1</td><td> 7</td><td>1</td></tr>\n",
       "\t<tr><th scope=row>ALN_6</th><td>1</td><td> 7</td><td>1</td></tr>\n",
       "\t<tr><th scope=row>ALN_7</th><td>1</td><td> 7</td><td>1</td></tr>\n",
       "\t<tr><th scope=row>ALN_8</th><td>1</td><td> 7</td><td>1</td></tr>\n",
       "\t<tr><th scope=row>ALN_9</th><td>1</td><td> 7</td><td>1</td></tr>\n",
       "\t<tr><th scope=row>BMB_0</th><td>1</td><td> 7</td><td>1</td></tr>\n",
       "\t<tr><th scope=row>BMAB_0</th><td>1</td><td> 7</td><td>1</td></tr>\n",
       "\t<tr><th scope=row>BMB_1</th><td>1</td><td>11</td><td>1</td></tr>\n",
       "\t<tr><th scope=row>BMAB_1</th><td>1</td><td> 8</td><td>1</td></tr>\n",
       "\t<tr><th scope=row>BMB_2</th><td>1</td><td> 9</td><td>1</td></tr>\n",
       "\t<tr><th scope=row>BMAB_2</th><td>1</td><td>11</td><td>1</td></tr>\n",
       "\t<tr><th scope=row>BMB_3</th><td>1</td><td> 7</td><td>1</td></tr>\n",
       "\t<tr><th scope=row>BMAB_3</th><td>1</td><td>10</td><td>1</td></tr>\n",
       "\t<tr><th scope=row>BMB_4</th><td>1</td><td> 8</td><td>1</td></tr>\n",
       "\t<tr><th scope=row>BMAB_4</th><td>1</td><td> 7</td><td>1</td></tr>\n",
       "\t<tr><th scope=row>BMB_5</th><td>1</td><td> 7</td><td>1</td></tr>\n",
       "\t<tr><th scope=row>BMB_6</th><td>1</td><td> 7</td><td>1</td></tr>\n",
       "\t<tr><th scope=row>BMB_7</th><td>1</td><td> 7</td><td>1</td></tr>\n",
       "\t<tr><th scope=row>BMAB_7</th><td>1</td><td> 7</td><td>1</td></tr>\n",
       "\t<tr><th scope=row>BMB_8</th><td>1</td><td> 7</td><td>1</td></tr>\n",
       "\t<tr><th scope=row>BMAB_8</th><td>1</td><td> 7</td><td>1</td></tr>\n",
       "\t<tr><th scope=row>BMB_9</th><td>1</td><td> 7</td><td>1</td></tr>\n",
       "\t<tr><th scope=row>BMAB_9</th><td>1</td><td> 7</td><td>1</td></tr>\n",
       "\t<tr><th scope=row>BLN_0</th><td>1</td><td> 7</td><td>1</td></tr>\n",
       "\t<tr><th scope=row>BLN_1</th><td>1</td><td> 9</td><td>1</td></tr>\n",
       "\t<tr><th scope=row>BLN_2</th><td>1</td><td> 7</td><td>1</td></tr>\n",
       "\t<tr><th scope=row>BLN_3</th><td>1</td><td> 9</td><td>1</td></tr>\n",
       "\t<tr><th scope=row>BLN_4</th><td>1</td><td> 7</td><td>1</td></tr>\n",
       "\t<tr><th scope=row>BLN_5</th><td>1</td><td>11</td><td>1</td></tr>\n",
       "\t<tr><th scope=row>BLN_6</th><td>1</td><td> 8</td><td>1</td></tr>\n",
       "\t<tr><th scope=row>BLN_7</th><td>1</td><td> 7</td><td>1</td></tr>\n",
       "\t<tr><th scope=row>BLN_8</th><td>1</td><td> 7</td><td>1</td></tr>\n",
       "\t<tr><th scope=row>BLN_9</th><td>1</td><td> 7</td><td>1</td></tr>\n",
       "</tbody>\n",
       "</table>\n",
       "</dd>\n",
       "</dl>\n"
      ],
      "text/latex": [
       "\\begin{description}\n",
       "\\item[\\$counts] A matrix: 2 × 38 of type int\n",
       "\\begin{tabular}{r|lllllllllllllllllllll}\n",
       "  & ALN\\_0 & ALN\\_1 & ALN\\_2 & ALN\\_3 & ALN\\_4 & ALN\\_5 & ALN\\_6 & ALN\\_7 & ALN\\_8 & ALN\\_9 & ⋯ & BLN\\_0 & BLN\\_1 & BLN\\_2 & BLN\\_3 & BLN\\_4 & BLN\\_5 & BLN\\_6 & BLN\\_7 & BLN\\_8 & BLN\\_9\\\\\n",
       "\\hline\n",
       "\t1 & 1 & 1 & 1 & 1 & 1 & 1 & 1 & 1 & 1 & 1 & ⋯ & 1 & 1 & 1 & 1 & 1 & 1 & 1 & 1 & 1 & 1\\\\\n",
       "\t2 & 1 & 1 & 2 & 1 & 2 & 1 & 1 & 1 & 1 & 1 & ⋯ & 1 & 2 & 1 & 2 & 1 & 2 & 1 & 1 & 1 & 1\\\\\n",
       "\\end{tabular}\n",
       "\n",
       "\\item[\\$samples] A data.frame: 38 × 3\n",
       "\\begin{tabular}{r|lll}\n",
       "  & group & lib.size & norm.factors\\\\\n",
       "  & <fct> & <dbl> & <dbl>\\\\\n",
       "\\hline\n",
       "\tALN\\_0 & 1 &  7 & 1\\\\\n",
       "\tALN\\_1 & 1 &  7 & 1\\\\\n",
       "\tALN\\_2 & 1 &  9 & 1\\\\\n",
       "\tALN\\_3 & 1 &  7 & 1\\\\\n",
       "\tALN\\_4 & 1 &  9 & 1\\\\\n",
       "\tALN\\_5 & 1 &  7 & 1\\\\\n",
       "\tALN\\_6 & 1 &  7 & 1\\\\\n",
       "\tALN\\_7 & 1 &  7 & 1\\\\\n",
       "\tALN\\_8 & 1 &  7 & 1\\\\\n",
       "\tALN\\_9 & 1 &  7 & 1\\\\\n",
       "\tBMB\\_0 & 1 &  7 & 1\\\\\n",
       "\tBMAB\\_0 & 1 &  7 & 1\\\\\n",
       "\tBMB\\_1 & 1 & 11 & 1\\\\\n",
       "\tBMAB\\_1 & 1 &  8 & 1\\\\\n",
       "\tBMB\\_2 & 1 &  9 & 1\\\\\n",
       "\tBMAB\\_2 & 1 & 11 & 1\\\\\n",
       "\tBMB\\_3 & 1 &  7 & 1\\\\\n",
       "\tBMAB\\_3 & 1 & 10 & 1\\\\\n",
       "\tBMB\\_4 & 1 &  8 & 1\\\\\n",
       "\tBMAB\\_4 & 1 &  7 & 1\\\\\n",
       "\tBMB\\_5 & 1 &  7 & 1\\\\\n",
       "\tBMB\\_6 & 1 &  7 & 1\\\\\n",
       "\tBMB\\_7 & 1 &  7 & 1\\\\\n",
       "\tBMAB\\_7 & 1 &  7 & 1\\\\\n",
       "\tBMB\\_8 & 1 &  7 & 1\\\\\n",
       "\tBMAB\\_8 & 1 &  7 & 1\\\\\n",
       "\tBMB\\_9 & 1 &  7 & 1\\\\\n",
       "\tBMAB\\_9 & 1 &  7 & 1\\\\\n",
       "\tBLN\\_0 & 1 &  7 & 1\\\\\n",
       "\tBLN\\_1 & 1 &  9 & 1\\\\\n",
       "\tBLN\\_2 & 1 &  7 & 1\\\\\n",
       "\tBLN\\_3 & 1 &  9 & 1\\\\\n",
       "\tBLN\\_4 & 1 &  7 & 1\\\\\n",
       "\tBLN\\_5 & 1 & 11 & 1\\\\\n",
       "\tBLN\\_6 & 1 &  8 & 1\\\\\n",
       "\tBLN\\_7 & 1 &  7 & 1\\\\\n",
       "\tBLN\\_8 & 1 &  7 & 1\\\\\n",
       "\tBLN\\_9 & 1 &  7 & 1\\\\\n",
       "\\end{tabular}\n",
       "\n",
       "\\end{description}\n"
      ],
      "text/markdown": [
       "$counts\n",
       ":   \n",
       "A matrix: 2 × 38 of type int\n",
       "\n",
       "| <!--/--> | ALN_0 | ALN_1 | ALN_2 | ALN_3 | ALN_4 | ALN_5 | ALN_6 | ALN_7 | ALN_8 | ALN_9 | ⋯ | BLN_0 | BLN_1 | BLN_2 | BLN_3 | BLN_4 | BLN_5 | BLN_6 | BLN_7 | BLN_8 | BLN_9 |\n",
       "|---|---|---|---|---|---|---|---|---|---|---|---|---|---|---|---|---|---|---|---|---|---|\n",
       "| 1 | 1 | 1 | 1 | 1 | 1 | 1 | 1 | 1 | 1 | 1 | ⋯ | 1 | 1 | 1 | 1 | 1 | 1 | 1 | 1 | 1 | 1 |\n",
       "| 2 | 1 | 1 | 2 | 1 | 2 | 1 | 1 | 1 | 1 | 1 | ⋯ | 1 | 2 | 1 | 2 | 1 | 2 | 1 | 1 | 1 | 1 |\n",
       "\n",
       "\n",
       "$samples\n",
       ":   \n",
       "A data.frame: 38 × 3\n",
       "\n",
       "| <!--/--> | group &lt;fct&gt; | lib.size &lt;dbl&gt; | norm.factors &lt;dbl&gt; |\n",
       "|---|---|---|---|\n",
       "| ALN_0 | 1 |  7 | 1 |\n",
       "| ALN_1 | 1 |  7 | 1 |\n",
       "| ALN_2 | 1 |  9 | 1 |\n",
       "| ALN_3 | 1 |  7 | 1 |\n",
       "| ALN_4 | 1 |  9 | 1 |\n",
       "| ALN_5 | 1 |  7 | 1 |\n",
       "| ALN_6 | 1 |  7 | 1 |\n",
       "| ALN_7 | 1 |  7 | 1 |\n",
       "| ALN_8 | 1 |  7 | 1 |\n",
       "| ALN_9 | 1 |  7 | 1 |\n",
       "| BMB_0 | 1 |  7 | 1 |\n",
       "| BMAB_0 | 1 |  7 | 1 |\n",
       "| BMB_1 | 1 | 11 | 1 |\n",
       "| BMAB_1 | 1 |  8 | 1 |\n",
       "| BMB_2 | 1 |  9 | 1 |\n",
       "| BMAB_2 | 1 | 11 | 1 |\n",
       "| BMB_3 | 1 |  7 | 1 |\n",
       "| BMAB_3 | 1 | 10 | 1 |\n",
       "| BMB_4 | 1 |  8 | 1 |\n",
       "| BMAB_4 | 1 |  7 | 1 |\n",
       "| BMB_5 | 1 |  7 | 1 |\n",
       "| BMB_6 | 1 |  7 | 1 |\n",
       "| BMB_7 | 1 |  7 | 1 |\n",
       "| BMAB_7 | 1 |  7 | 1 |\n",
       "| BMB_8 | 1 |  7 | 1 |\n",
       "| BMAB_8 | 1 |  7 | 1 |\n",
       "| BMB_9 | 1 |  7 | 1 |\n",
       "| BMAB_9 | 1 |  7 | 1 |\n",
       "| BLN_0 | 1 |  7 | 1 |\n",
       "| BLN_1 | 1 |  9 | 1 |\n",
       "| BLN_2 | 1 |  7 | 1 |\n",
       "| BLN_3 | 1 |  9 | 1 |\n",
       "| BLN_4 | 1 |  7 | 1 |\n",
       "| BLN_5 | 1 | 11 | 1 |\n",
       "| BLN_6 | 1 |  8 | 1 |\n",
       "| BLN_7 | 1 |  7 | 1 |\n",
       "| BLN_8 | 1 |  7 | 1 |\n",
       "| BLN_9 | 1 |  7 | 1 |\n",
       "\n",
       "\n",
       "\n",
       "\n"
      ],
      "text/plain": [
       "An object of class \"DGEList\"\n",
       "$counts\n",
       "  ALN_0 ALN_1 ALN_2 ALN_3 ALN_4 ALN_5 ALN_6 ALN_7 ALN_8 ALN_9 BMB_0 BMAB_0\n",
       "1     1     1     1     1     1     1     1     1     1     1     1      1\n",
       "2     1     1     2     1     2     1     1     1     1     1     1      1\n",
       "  BMB_1 BMAB_1 BMB_2 BMAB_2 BMB_3 BMAB_3 BMB_4 BMAB_4 BMB_5 BMB_6 BMB_7 BMAB_7\n",
       "1     1      1     1      1     1      1     1      1     1     1     1      1\n",
       "2     1      1     2      2     1      1     1      1     1     1     1      1\n",
       "  BMB_8 BMAB_8 BMB_9 BMAB_9 BLN_0 BLN_1 BLN_2 BLN_3 BLN_4 BLN_5 BLN_6 BLN_7\n",
       "1     1      1     1      1     1     1     1     1     1     1     1     1\n",
       "2     1      1     1      1     1     2     1     2     1     2     1     1\n",
       "  BLN_8 BLN_9\n",
       "1     1     1\n",
       "2     1     1\n",
       "\n",
       "$samples\n",
       "      group lib.size norm.factors\n",
       "ALN_0     1        7            1\n",
       "ALN_1     1        7            1\n",
       "ALN_2     1        9            1\n",
       "ALN_3     1        7            1\n",
       "ALN_4     1        9            1\n",
       "33 more rows ...\n"
      ]
     },
     "metadata": {},
     "output_type": "display_data"
    }
   ],
   "source": [
    "head(dge,2)"
   ]
  },
  {
   "cell_type": "code",
   "execution_count": 30,
   "id": "35c3ffa4-8127-4496-98de-7493c0ae95e0",
   "metadata": {},
   "outputs": [
    {
     "data": {
      "image/png": "[encoded data removed]",
      "text/plain": [
       "plot without title"
      ]
     },
     "metadata": {
      "image/png": {
       "height": 420,
       "width": 420
      }
     },
     "output_type": "display_data"
    }
   ],
   "source": [
    "library(\"pheatmap\")\n",
    "#df <- as.data.frame(coldata[,c(\"condition\",\"patient\")])\n",
    "out <- pheatmap(cts_nobulk)"
   ]
  },
  {
   "cell_type": "code",
   "execution_count": null,
   "id": "f11f4bad-679f-4ff9-bc8b-75aeef6b9995",
   "metadata": {},
   "outputs": [],
   "source": []
  },
  {
   "cell_type": "code",
   "execution_count": 24,
   "id": "20f53b49-24b1-4599-ab86-31e338555f66",
   "metadata": {},
   "outputs": [],
   "source": [
    "design <- model.matrix(~ 0 + factor(c(rep(\"LN\",9),rep(\"BM\",16),rep(\"LN\",9))))\n"
   ]
  },
  {
   "cell_type": "code",
   "execution_count": 26,
   "id": "1e3ee690-7fc1-4d4d-96cb-c8f190553042",
   "metadata": {},
   "outputs": [
    {
     "data": {
      "text/html": [
       "<table class=\"dataframe\">\n",
       "<caption>A matrix: 34 × 2 of type dbl</caption>\n",
       "<thead>\n",
       "\t<tr><th></th><th scope=col>BM</th><th scope=col>LN</th></tr>\n",
       "</thead>\n",
       "<tbody>\n",
       "\t<tr><th scope=row>1</th><td>0</td><td>1</td></tr>\n",
       "\t<tr><th scope=row>2</th><td>0</td><td>1</td></tr>\n",
       "\t<tr><th scope=row>3</th><td>0</td><td>1</td></tr>\n",
       "\t<tr><th scope=row>4</th><td>0</td><td>1</td></tr>\n",
       "\t<tr><th scope=row>5</th><td>0</td><td>1</td></tr>\n",
       "\t<tr><th scope=row>6</th><td>0</td><td>1</td></tr>\n",
       "\t<tr><th scope=row>7</th><td>0</td><td>1</td></tr>\n",
       "\t<tr><th scope=row>8</th><td>0</td><td>1</td></tr>\n",
       "\t<tr><th scope=row>9</th><td>0</td><td>1</td></tr>\n",
       "\t<tr><th scope=row>10</th><td>1</td><td>0</td></tr>\n",
       "\t<tr><th scope=row>11</th><td>1</td><td>0</td></tr>\n",
       "\t<tr><th scope=row>12</th><td>1</td><td>0</td></tr>\n",
       "\t<tr><th scope=row>13</th><td>1</td><td>0</td></tr>\n",
       "\t<tr><th scope=row>14</th><td>1</td><td>0</td></tr>\n",
       "\t<tr><th scope=row>15</th><td>1</td><td>0</td></tr>\n",
       "\t<tr><th scope=row>16</th><td>1</td><td>0</td></tr>\n",
       "\t<tr><th scope=row>17</th><td>1</td><td>0</td></tr>\n",
       "\t<tr><th scope=row>18</th><td>1</td><td>0</td></tr>\n",
       "\t<tr><th scope=row>19</th><td>1</td><td>0</td></tr>\n",
       "\t<tr><th scope=row>20</th><td>1</td><td>0</td></tr>\n",
       "\t<tr><th scope=row>21</th><td>1</td><td>0</td></tr>\n",
       "\t<tr><th scope=row>22</th><td>1</td><td>0</td></tr>\n",
       "\t<tr><th scope=row>23</th><td>1</td><td>0</td></tr>\n",
       "\t<tr><th scope=row>24</th><td>1</td><td>0</td></tr>\n",
       "\t<tr><th scope=row>25</th><td>1</td><td>0</td></tr>\n",
       "\t<tr><th scope=row>26</th><td>0</td><td>1</td></tr>\n",
       "\t<tr><th scope=row>27</th><td>0</td><td>1</td></tr>\n",
       "\t<tr><th scope=row>28</th><td>0</td><td>1</td></tr>\n",
       "\t<tr><th scope=row>29</th><td>0</td><td>1</td></tr>\n",
       "\t<tr><th scope=row>30</th><td>0</td><td>1</td></tr>\n",
       "\t<tr><th scope=row>31</th><td>0</td><td>1</td></tr>\n",
       "\t<tr><th scope=row>32</th><td>0</td><td>1</td></tr>\n",
       "\t<tr><th scope=row>33</th><td>0</td><td>1</td></tr>\n",
       "\t<tr><th scope=row>34</th><td>0</td><td>1</td></tr>\n",
       "</tbody>\n",
       "</table>\n"
      ],
      "text/latex": [
       "A matrix: 34 × 2 of type dbl\n",
       "\\begin{tabular}{r|ll}\n",
       "  & BM & LN\\\\\n",
       "\\hline\n",
       "\t1 & 0 & 1\\\\\n",
       "\t2 & 0 & 1\\\\\n",
       "\t3 & 0 & 1\\\\\n",
       "\t4 & 0 & 1\\\\\n",
       "\t5 & 0 & 1\\\\\n",
       "\t6 & 0 & 1\\\\\n",
       "\t7 & 0 & 1\\\\\n",
       "\t8 & 0 & 1\\\\\n",
       "\t9 & 0 & 1\\\\\n",
       "\t10 & 1 & 0\\\\\n",
       "\t11 & 1 & 0\\\\\n",
       "\t12 & 1 & 0\\\\\n",
       "\t13 & 1 & 0\\\\\n",
       "\t14 & 1 & 0\\\\\n",
       "\t15 & 1 & 0\\\\\n",
       "\t16 & 1 & 0\\\\\n",
       "\t17 & 1 & 0\\\\\n",
       "\t18 & 1 & 0\\\\\n",
       "\t19 & 1 & 0\\\\\n",
       "\t20 & 1 & 0\\\\\n",
       "\t21 & 1 & 0\\\\\n",
       "\t22 & 1 & 0\\\\\n",
       "\t23 & 1 & 0\\\\\n",
       "\t24 & 1 & 0\\\\\n",
       "\t25 & 1 & 0\\\\\n",
       "\t26 & 0 & 1\\\\\n",
       "\t27 & 0 & 1\\\\\n",
       "\t28 & 0 & 1\\\\\n",
       "\t29 & 0 & 1\\\\\n",
       "\t30 & 0 & 1\\\\\n",
       "\t31 & 0 & 1\\\\\n",
       "\t32 & 0 & 1\\\\\n",
       "\t33 & 0 & 1\\\\\n",
       "\t34 & 0 & 1\\\\\n",
       "\\end{tabular}\n"
      ],
      "text/markdown": [
       "\n",
       "A matrix: 34 × 2 of type dbl\n",
       "\n",
       "| <!--/--> | BM | LN |\n",
       "|---|---|---|\n",
       "| 1 | 0 | 1 |\n",
       "| 2 | 0 | 1 |\n",
       "| 3 | 0 | 1 |\n",
       "| 4 | 0 | 1 |\n",
       "| 5 | 0 | 1 |\n",
       "| 6 | 0 | 1 |\n",
       "| 7 | 0 | 1 |\n",
       "| 8 | 0 | 1 |\n",
       "| 9 | 0 | 1 |\n",
       "| 10 | 1 | 0 |\n",
       "| 11 | 1 | 0 |\n",
       "| 12 | 1 | 0 |\n",
       "| 13 | 1 | 0 |\n",
       "| 14 | 1 | 0 |\n",
       "| 15 | 1 | 0 |\n",
       "| 16 | 1 | 0 |\n",
       "| 17 | 1 | 0 |\n",
       "| 18 | 1 | 0 |\n",
       "| 19 | 1 | 0 |\n",
       "| 20 | 1 | 0 |\n",
       "| 21 | 1 | 0 |\n",
       "| 22 | 1 | 0 |\n",
       "| 23 | 1 | 0 |\n",
       "| 24 | 1 | 0 |\n",
       "| 25 | 1 | 0 |\n",
       "| 26 | 0 | 1 |\n",
       "| 27 | 0 | 1 |\n",
       "| 28 | 0 | 1 |\n",
       "| 29 | 0 | 1 |\n",
       "| 30 | 0 | 1 |\n",
       "| 31 | 0 | 1 |\n",
       "| 32 | 0 | 1 |\n",
       "| 33 | 0 | 1 |\n",
       "| 34 | 0 | 1 |\n",
       "\n"
      ],
      "text/plain": [
       "   BM LN\n",
       "1  0  1 \n",
       "2  0  1 \n",
       "3  0  1 \n",
       "4  0  1 \n",
       "5  0  1 \n",
       "6  0  1 \n",
       "7  0  1 \n",
       "8  0  1 \n",
       "9  0  1 \n",
       "10 1  0 \n",
       "11 1  0 \n",
       "12 1  0 \n",
       "13 1  0 \n",
       "14 1  0 \n",
       "15 1  0 \n",
       "16 1  0 \n",
       "17 1  0 \n",
       "18 1  0 \n",
       "19 1  0 \n",
       "20 1  0 \n",
       "21 1  0 \n",
       "22 1  0 \n",
       "23 1  0 \n",
       "24 1  0 \n",
       "25 1  0 \n",
       "26 0  1 \n",
       "27 0  1 \n",
       "28 0  1 \n",
       "29 0  1 \n",
       "30 0  1 \n",
       "31 0  1 \n",
       "32 0  1 \n",
       "33 0  1 \n",
       "34 0  1 "
      ]
     },
     "metadata": {},
     "output_type": "display_data"
    }
   ],
   "source": [
    "colnames(design)<- c(\"BM\",\"LN\")\n",
    "design"
   ]
  },
  {
   "cell_type": "code",
   "execution_count": 28,
   "id": "d50b9a7e-f4f7-43d3-b51a-2bcc3e659230",
   "metadata": {},
   "outputs": [],
   "source": [
    "# normalize and filter\n",
    "keep          <-filterByExpr(dge, design)"
   ]
  },
  {
   "cell_type": "code",
   "execution_count": 29,
   "id": "0f9a6be8-7cbb-414f-af8a-a915f2f4a9e0",
   "metadata": {},
   "outputs": [
    {
     "data": {
      "text/html": [
       "TRUE"
      ],
      "text/latex": [
       "TRUE"
      ],
      "text/markdown": [
       "TRUE"
      ],
      "text/plain": [
       "[1] TRUE"
      ]
     },
     "metadata": {},
     "output_type": "display_data"
    }
   ],
   "source": [
    "is.logical(keep)"
   ]
  },
  {
   "cell_type": "code",
   "execution_count": 30,
   "id": "0b0b2483-0edd-49b5-8d1b-9eda5c916e8d",
   "metadata": {},
   "outputs": [],
   "source": [
    "dge          <- dge         [keep,,keep.lib.size=FALSE]"
   ]
  },
  {
   "cell_type": "code",
   "execution_count": 39,
   "id": "a041b234-6bba-440a-8033-42c651ff5919",
   "metadata": {},
   "outputs": [
    {
     "name": "stderr",
     "output_type": "stream",
     "text": [
      "Warning message in cbind(parts$left, chars$ellip_h, parts$right, deparse.level = 0L):\n",
      "“number of rows of result is not a multiple of vector length (arg 2)”\n",
      "Warning message in cbind(parts$left, chars$ellip_h, parts$right, deparse.level = 0L):\n",
      "“number of rows of result is not a multiple of vector length (arg 2)”\n",
      "Warning message in cbind(parts$left, chars$ellip_h, parts$right, deparse.level = 0L):\n",
      "“number of rows of result is not a multiple of vector length (arg 2)”\n"
     ]
    },
    {
     "data": {
      "text/html": [
       "<dl>\n",
       "\t<dt>$counts</dt>\n",
       "\t\t<dd><table class=\"dataframe\">\n",
       "<caption>A matrix: 0 × 38 of type int</caption>\n",
       "<thead>\n",
       "\t<tr><th scope=col>ALN_0</th><th scope=col>ALN_1</th><th scope=col>ALN_2</th><th scope=col>ALN_3</th><th scope=col>ALN_4</th><th scope=col>ALN_5</th><th scope=col>ALN_6</th><th scope=col>ALN_7</th><th scope=col>ALN_8</th><th scope=col>ALN_9</th><th scope=col>⋯</th><th scope=col>BLN_0</th><th scope=col>BLN_1</th><th scope=col>BLN_2</th><th scope=col>BLN_3</th><th scope=col>BLN_4</th><th scope=col>BLN_5</th><th scope=col>BLN_6</th><th scope=col>BLN_7</th><th scope=col>BLN_8</th><th scope=col>BLN_9</th></tr>\n",
       "</thead>\n",
       "<tbody>\n",
       "</tbody>\n",
       "</table>\n",
       "</dd>\n",
       "\t<dt>$samples</dt>\n",
       "\t\t<dd><table class=\"dataframe\">\n",
       "<caption>A data.frame: 38 × 3</caption>\n",
       "<thead>\n",
       "\t<tr><th></th><th scope=col>group</th><th scope=col>lib.size</th><th scope=col>norm.factors</th></tr>\n",
       "\t<tr><th></th><th scope=col>&lt;fct&gt;</th><th scope=col>&lt;dbl&gt;</th><th scope=col>&lt;dbl&gt;</th></tr>\n",
       "</thead>\n",
       "<tbody>\n",
       "\t<tr><th scope=row>ALN_0</th><td>1</td><td>0</td><td>1</td></tr>\n",
       "\t<tr><th scope=row>ALN_1</th><td>1</td><td>0</td><td>1</td></tr>\n",
       "\t<tr><th scope=row>ALN_2</th><td>1</td><td>0</td><td>1</td></tr>\n",
       "\t<tr><th scope=row>ALN_3</th><td>1</td><td>0</td><td>1</td></tr>\n",
       "\t<tr><th scope=row>ALN_4</th><td>1</td><td>0</td><td>1</td></tr>\n",
       "\t<tr><th scope=row>ALN_5</th><td>1</td><td>0</td><td>1</td></tr>\n",
       "\t<tr><th scope=row>ALN_6</th><td>1</td><td>0</td><td>1</td></tr>\n",
       "\t<tr><th scope=row>ALN_7</th><td>1</td><td>0</td><td>1</td></tr>\n",
       "\t<tr><th scope=row>ALN_8</th><td>1</td><td>0</td><td>1</td></tr>\n",
       "\t<tr><th scope=row>ALN_9</th><td>1</td><td>0</td><td>1</td></tr>\n",
       "\t<tr><th scope=row>BMB_0</th><td>1</td><td>0</td><td>1</td></tr>\n",
       "\t<tr><th scope=row>BMAB_0</th><td>1</td><td>0</td><td>1</td></tr>\n",
       "\t<tr><th scope=row>BMB_1</th><td>1</td><td>0</td><td>1</td></tr>\n",
       "\t<tr><th scope=row>BMAB_1</th><td>1</td><td>0</td><td>1</td></tr>\n",
       "\t<tr><th scope=row>BMB_2</th><td>1</td><td>0</td><td>1</td></tr>\n",
       "\t<tr><th scope=row>BMAB_2</th><td>1</td><td>0</td><td>1</td></tr>\n",
       "\t<tr><th scope=row>BMB_3</th><td>1</td><td>0</td><td>1</td></tr>\n",
       "\t<tr><th scope=row>BMAB_3</th><td>1</td><td>0</td><td>1</td></tr>\n",
       "\t<tr><th scope=row>BMB_4</th><td>1</td><td>0</td><td>1</td></tr>\n",
       "\t<tr><th scope=row>BMAB_4</th><td>1</td><td>0</td><td>1</td></tr>\n",
       "\t<tr><th scope=row>BMB_5</th><td>1</td><td>0</td><td>1</td></tr>\n",
       "\t<tr><th scope=row>BMB_6</th><td>1</td><td>0</td><td>1</td></tr>\n",
       "\t<tr><th scope=row>BMB_7</th><td>1</td><td>0</td><td>1</td></tr>\n",
       "\t<tr><th scope=row>BMAB_7</th><td>1</td><td>0</td><td>1</td></tr>\n",
       "\t<tr><th scope=row>BMB_8</th><td>1</td><td>0</td><td>1</td></tr>\n",
       "\t<tr><th scope=row>BMAB_8</th><td>1</td><td>0</td><td>1</td></tr>\n",
       "\t<tr><th scope=row>BMB_9</th><td>1</td><td>0</td><td>1</td></tr>\n",
       "\t<tr><th scope=row>BMAB_9</th><td>1</td><td>0</td><td>1</td></tr>\n",
       "\t<tr><th scope=row>BLN_0</th><td>1</td><td>0</td><td>1</td></tr>\n",
       "\t<tr><th scope=row>BLN_1</th><td>1</td><td>0</td><td>1</td></tr>\n",
       "\t<tr><th scope=row>BLN_2</th><td>1</td><td>0</td><td>1</td></tr>\n",
       "\t<tr><th scope=row>BLN_3</th><td>1</td><td>0</td><td>1</td></tr>\n",
       "\t<tr><th scope=row>BLN_4</th><td>1</td><td>0</td><td>1</td></tr>\n",
       "\t<tr><th scope=row>BLN_5</th><td>1</td><td>0</td><td>1</td></tr>\n",
       "\t<tr><th scope=row>BLN_6</th><td>1</td><td>0</td><td>1</td></tr>\n",
       "\t<tr><th scope=row>BLN_7</th><td>1</td><td>0</td><td>1</td></tr>\n",
       "\t<tr><th scope=row>BLN_8</th><td>1</td><td>0</td><td>1</td></tr>\n",
       "\t<tr><th scope=row>BLN_9</th><td>1</td><td>0</td><td>1</td></tr>\n",
       "</tbody>\n",
       "</table>\n",
       "</dd>\n",
       "</dl>\n"
      ],
      "text/latex": [
       "\\begin{description}\n",
       "\\item[\\$counts] A matrix: 0 × 38 of type int\n",
       "\\begin{tabular}{lllllllllllllllllllll}\n",
       " ALN\\_0 & ALN\\_1 & ALN\\_2 & ALN\\_3 & ALN\\_4 & ALN\\_5 & ALN\\_6 & ALN\\_7 & ALN\\_8 & ALN\\_9 & ⋯ & BLN\\_0 & BLN\\_1 & BLN\\_2 & BLN\\_3 & BLN\\_4 & BLN\\_5 & BLN\\_6 & BLN\\_7 & BLN\\_8 & BLN\\_9\\\\\n",
       "\\hline\n",
       "\\end{tabular}\n",
       "\n",
       "\\item[\\$samples] A data.frame: 38 × 3\n",
       "\\begin{tabular}{r|lll}\n",
       "  & group & lib.size & norm.factors\\\\\n",
       "  & <fct> & <dbl> & <dbl>\\\\\n",
       "\\hline\n",
       "\tALN\\_0 & 1 & 0 & 1\\\\\n",
       "\tALN\\_1 & 1 & 0 & 1\\\\\n",
       "\tALN\\_2 & 1 & 0 & 1\\\\\n",
       "\tALN\\_3 & 1 & 0 & 1\\\\\n",
       "\tALN\\_4 & 1 & 0 & 1\\\\\n",
       "\tALN\\_5 & 1 & 0 & 1\\\\\n",
       "\tALN\\_6 & 1 & 0 & 1\\\\\n",
       "\tALN\\_7 & 1 & 0 & 1\\\\\n",
       "\tALN\\_8 & 1 & 0 & 1\\\\\n",
       "\tALN\\_9 & 1 & 0 & 1\\\\\n",
       "\tBMB\\_0 & 1 & 0 & 1\\\\\n",
       "\tBMAB\\_0 & 1 & 0 & 1\\\\\n",
       "\tBMB\\_1 & 1 & 0 & 1\\\\\n",
       "\tBMAB\\_1 & 1 & 0 & 1\\\\\n",
       "\tBMB\\_2 & 1 & 0 & 1\\\\\n",
       "\tBMAB\\_2 & 1 & 0 & 1\\\\\n",
       "\tBMB\\_3 & 1 & 0 & 1\\\\\n",
       "\tBMAB\\_3 & 1 & 0 & 1\\\\\n",
       "\tBMB\\_4 & 1 & 0 & 1\\\\\n",
       "\tBMAB\\_4 & 1 & 0 & 1\\\\\n",
       "\tBMB\\_5 & 1 & 0 & 1\\\\\n",
       "\tBMB\\_6 & 1 & 0 & 1\\\\\n",
       "\tBMB\\_7 & 1 & 0 & 1\\\\\n",
       "\tBMAB\\_7 & 1 & 0 & 1\\\\\n",
       "\tBMB\\_8 & 1 & 0 & 1\\\\\n",
       "\tBMAB\\_8 & 1 & 0 & 1\\\\\n",
       "\tBMB\\_9 & 1 & 0 & 1\\\\\n",
       "\tBMAB\\_9 & 1 & 0 & 1\\\\\n",
       "\tBLN\\_0 & 1 & 0 & 1\\\\\n",
       "\tBLN\\_1 & 1 & 0 & 1\\\\\n",
       "\tBLN\\_2 & 1 & 0 & 1\\\\\n",
       "\tBLN\\_3 & 1 & 0 & 1\\\\\n",
       "\tBLN\\_4 & 1 & 0 & 1\\\\\n",
       "\tBLN\\_5 & 1 & 0 & 1\\\\\n",
       "\tBLN\\_6 & 1 & 0 & 1\\\\\n",
       "\tBLN\\_7 & 1 & 0 & 1\\\\\n",
       "\tBLN\\_8 & 1 & 0 & 1\\\\\n",
       "\tBLN\\_9 & 1 & 0 & 1\\\\\n",
       "\\end{tabular}\n",
       "\n",
       "\\end{description}\n"
      ],
      "text/markdown": [
       "$counts\n",
       ":   \n",
       "A matrix: 0 × 38 of type int\n",
       "\n",
       "| ALN_0 | ALN_1 | ALN_2 | ALN_3 | ALN_4 | ALN_5 | ALN_6 | ALN_7 | ALN_8 | ALN_9 | ⋯ | BLN_0 | BLN_1 | BLN_2 | BLN_3 | BLN_4 | BLN_5 | BLN_6 | BLN_7 | BLN_8 | BLN_9 |\n",
       "|---|---|---|---|---|---|---|---|---|---|---|---|---|---|---|---|---|---|---|---|---|\n",
       "\n",
       "\n",
       "$samples\n",
       ":   \n",
       "A data.frame: 38 × 3\n",
       "\n",
       "| <!--/--> | group &lt;fct&gt; | lib.size &lt;dbl&gt; | norm.factors &lt;dbl&gt; |\n",
       "|---|---|---|---|\n",
       "| ALN_0 | 1 | 0 | 1 |\n",
       "| ALN_1 | 1 | 0 | 1 |\n",
       "| ALN_2 | 1 | 0 | 1 |\n",
       "| ALN_3 | 1 | 0 | 1 |\n",
       "| ALN_4 | 1 | 0 | 1 |\n",
       "| ALN_5 | 1 | 0 | 1 |\n",
       "| ALN_6 | 1 | 0 | 1 |\n",
       "| ALN_7 | 1 | 0 | 1 |\n",
       "| ALN_8 | 1 | 0 | 1 |\n",
       "| ALN_9 | 1 | 0 | 1 |\n",
       "| BMB_0 | 1 | 0 | 1 |\n",
       "| BMAB_0 | 1 | 0 | 1 |\n",
       "| BMB_1 | 1 | 0 | 1 |\n",
       "| BMAB_1 | 1 | 0 | 1 |\n",
       "| BMB_2 | 1 | 0 | 1 |\n",
       "| BMAB_2 | 1 | 0 | 1 |\n",
       "| BMB_3 | 1 | 0 | 1 |\n",
       "| BMAB_3 | 1 | 0 | 1 |\n",
       "| BMB_4 | 1 | 0 | 1 |\n",
       "| BMAB_4 | 1 | 0 | 1 |\n",
       "| BMB_5 | 1 | 0 | 1 |\n",
       "| BMB_6 | 1 | 0 | 1 |\n",
       "| BMB_7 | 1 | 0 | 1 |\n",
       "| BMAB_7 | 1 | 0 | 1 |\n",
       "| BMB_8 | 1 | 0 | 1 |\n",
       "| BMAB_8 | 1 | 0 | 1 |\n",
       "| BMB_9 | 1 | 0 | 1 |\n",
       "| BMAB_9 | 1 | 0 | 1 |\n",
       "| BLN_0 | 1 | 0 | 1 |\n",
       "| BLN_1 | 1 | 0 | 1 |\n",
       "| BLN_2 | 1 | 0 | 1 |\n",
       "| BLN_3 | 1 | 0 | 1 |\n",
       "| BLN_4 | 1 | 0 | 1 |\n",
       "| BLN_5 | 1 | 0 | 1 |\n",
       "| BLN_6 | 1 | 0 | 1 |\n",
       "| BLN_7 | 1 | 0 | 1 |\n",
       "| BLN_8 | 1 | 0 | 1 |\n",
       "| BLN_9 | 1 | 0 | 1 |\n",
       "\n",
       "\n",
       "\n",
       "\n"
      ],
      "text/plain": [
       "An object of class \"DGEList\"\n",
       "$counts\n",
       "     ALN_0 ALN_1 ALN_2 ALN_3 ALN_4 ALN_5 ALN_6 ALN_7 ALN_8 ALN_9 BMB_0 BMAB_0\n",
       "     BMB_1 BMAB_1 BMB_2 BMAB_2 BMB_3 BMAB_3 BMB_4 BMAB_4 BMB_5 BMB_6 BMB_7\n",
       "     BMAB_7 BMB_8 BMAB_8 BMB_9 BMAB_9 BLN_0 BLN_1 BLN_2 BLN_3 BLN_4 BLN_5 BLN_6\n",
       "     BLN_7 BLN_8 BLN_9\n",
       "\n",
       "$samples\n",
       "      group lib.size norm.factors\n",
       "ALN_0     1        0            1\n",
       "ALN_1     1        0            1\n",
       "ALN_2     1        0            1\n",
       "ALN_3     1        0            1\n",
       "ALN_4     1        0            1\n",
       "33 more rows ...\n"
      ]
     },
     "metadata": {},
     "output_type": "display_data"
    }
   ],
   "source": [
    "# apply scale normalization\n",
    "dge          <- calcNormFactors(dge)\n",
    "dge"
   ]
  },
  {
   "cell_type": "code",
   "execution_count": 38,
   "id": "4f723d60-0c5c-45be-b784-f4981f92474b",
   "metadata": {},
   "outputs": [
    {
     "name": "stderr",
     "output_type": "stream",
     "text": [
      "Warning message in cbind(parts$left, chars$ellip_h, parts$right, deparse.level = 0L):\n",
      "“number of rows of result is not a multiple of vector length (arg 2)”\n",
      "Warning message in cbind(parts$left, chars$ellip_h, parts$right, deparse.level = 0L):\n",
      "“number of rows of result is not a multiple of vector length (arg 2)”\n",
      "Warning message in cbind(parts$left, chars$ellip_h, parts$right, deparse.level = 0L):\n",
      "“number of rows of result is not a multiple of vector length (arg 2)”\n",
      "Warning message in cbind(parts$left, chars$ellip_h, parts$right, deparse.level = 0L):\n",
      "“number of rows of result is not a multiple of vector length (arg 2)”\n"
     ]
    },
    {
     "data": {
      "text/html": [
       "<table class=\"dataframe\">\n",
       "<caption>A matrix: 0 × 38 of type int</caption>\n",
       "<thead>\n",
       "\t<tr><th scope=col>ALN_0</th><th scope=col>ALN_1</th><th scope=col>ALN_2</th><th scope=col>ALN_3</th><th scope=col>ALN_4</th><th scope=col>ALN_5</th><th scope=col>ALN_6</th><th scope=col>ALN_7</th><th scope=col>ALN_8</th><th scope=col>ALN_9</th><th scope=col>⋯</th><th scope=col>BLN_0</th><th scope=col>BLN_1</th><th scope=col>BLN_2</th><th scope=col>BLN_3</th><th scope=col>BLN_4</th><th scope=col>BLN_5</th><th scope=col>BLN_6</th><th scope=col>BLN_7</th><th scope=col>BLN_8</th><th scope=col>BLN_9</th></tr>\n",
       "</thead>\n",
       "<tbody>\n",
       "</tbody>\n",
       "</table>\n"
      ],
      "text/latex": [
       "A matrix: 0 × 38 of type int\n",
       "\\begin{tabular}{lllllllllllllllllllll}\n",
       " ALN\\_0 & ALN\\_1 & ALN\\_2 & ALN\\_3 & ALN\\_4 & ALN\\_5 & ALN\\_6 & ALN\\_7 & ALN\\_8 & ALN\\_9 & ⋯ & BLN\\_0 & BLN\\_1 & BLN\\_2 & BLN\\_3 & BLN\\_4 & BLN\\_5 & BLN\\_6 & BLN\\_7 & BLN\\_8 & BLN\\_9\\\\\n",
       "\\hline\n",
       "\\end{tabular}\n"
      ],
      "text/markdown": [
       "\n",
       "A matrix: 0 × 38 of type int\n",
       "\n",
       "| ALN_0 | ALN_1 | ALN_2 | ALN_3 | ALN_4 | ALN_5 | ALN_6 | ALN_7 | ALN_8 | ALN_9 | ⋯ | BLN_0 | BLN_1 | BLN_2 | BLN_3 | BLN_4 | BLN_5 | BLN_6 | BLN_7 | BLN_8 | BLN_9 |\n",
       "|---|---|---|---|---|---|---|---|---|---|---|---|---|---|---|---|---|---|---|---|---|\n",
       "\n"
      ],
      "text/plain": [
       "     ALN_0 ALN_1 ALN_2 ALN_3 ALN_4 ALN_5 ALN_6 ALN_7 ALN_8 ALN_9 ⋯ BLN_0 BLN_1\n",
       "     BLN_2 BLN_3 BLN_4 BLN_5 BLN_6 BLN_7 BLN_8 BLN_9"
      ]
     },
     "metadata": {},
     "output_type": "display_data"
    }
   ],
   "source": [
    "# MDS Plot - can we separate the samples well?\n",
    "logCPM <- cpm(dge, log=TRUE, prior.count=3)\n",
    "#plotMDS(logCPM,labels=colnames(cts_nobulk))\n",
    "logCPM"
   ]
  },
  {
   "cell_type": "code",
   "execution_count": 37,
   "id": "9948ffce-7db1-40b9-b5b0-e6008013579e",
   "metadata": {},
   "outputs": [
    {
     "ename": "ERROR",
     "evalue": "Error in lmFit(logCPM, design): expression matrix has zero rows\n",
     "output_type": "error",
     "traceback": [
      "Error in lmFit(logCPM, design): expression matrix has zero rows\nTraceback:\n",
      "1. lmFit(logCPM, design)",
      "2. stop(\"expression matrix has zero rows\")"
     ]
    }
   ],
   "source": [
    "fit <- lmFit(logCPM, design)\n",
    "fit <- eBayes(fit, trend=TRUE)\n",
    "de_results <- topTable(fit, coef=ncol(design), n=Inf) \n",
    "lookup <- rownames(de_results)\n",
    "length(featureData[lookup,2])\n",
    "head(featureData[lookup,2])"
   ]
  },
  {
   "cell_type": "code",
   "execution_count": null,
   "id": "a84151dc-c059-4ed4-807d-5f6136b7bf97",
   "metadata": {},
   "outputs": [],
   "source": []
  },
  {
   "cell_type": "code",
   "execution_count": null,
   "id": "56064fd7-d3d5-4ffe-b188-0e07f42f8dc5",
   "metadata": {},
   "outputs": [],
   "source": [
    "# Assuming you have the 'de_results' object from topTable\n",
    "fold_change_threshold <- 8\n",
    "adjusted_pvalue_threshold <- 0.05\n",
    "\n",
    "# Select genes that meet both fold change and adjusted p-value criteria\n",
    "significant_filtered_genes <- filtered_de_results[\n",
    "  abs(filtered_de_results$logFC) > fold_change_threshold &\n",
    "  filtered_de_results$adj.P.Val < adjusted_pvalue_threshold,\n",
    "]\n",
    "dim(significant_filtered_genes)"
   ]
  },
  {
   "cell_type": "code",
   "execution_count": null,
   "id": "fc47f1b7-d020-4033-acb4-2408456003b8",
   "metadata": {},
   "outputs": [],
   "source": [
    "filtered_lookup <- rownames(significant_filtered_genes)\n",
    "significant_filtered_expression <- filtered_dge[filtered_lookup,]"
   ]
  },
  {
   "cell_type": "code",
   "execution_count": null,
   "id": "27af11e3-8745-4cf4-b1d0-5cc32502268f",
   "metadata": {},
   "outputs": [],
   "source": [
    "significant_filtered_out <- pheatmap(significant_filtered_expression, \n",
    "                            cluster_rows5=TRUE, \n",
    "                            show_rownames=FALSE,\n",
    "                            cluster_cols=TRUE, \n",
    "                            annotation_col=df, \n",
    "                            scale=\"row\",\n",
    "                            clustering_method = \"ward.D2\",\n",
    "                            clustering_distance_cols = \"minkowski\", \n",
    "                            clustering_distance_rows = \"minkowski\" )\n"
   ]
  },
  {
   "cell_type": "code",
   "execution_count": null,
   "id": "58e5f03a-9279-4b58-ada9-e7b189fa2f61",
   "metadata": {},
   "outputs": [],
   "source": [
    "# weighting \n",
    "v <- voom(filtered_dge, plot=TRUE, normalize=\"quantile\")"
   ]
  },
  {
   "cell_type": "code",
   "execution_count": null,
   "id": "a1d9a72d-a31f-4fd8-aa1d-846a151c0fcc",
   "metadata": {},
   "outputs": [],
   "source": [
    "vwts <- voomWithQualityWeights(filtered_dge, design=design, normalize.method=\"quantile\", plot=TRUE)"
   ]
  },
  {
   "cell_type": "code",
   "execution_count": null,
   "id": "5b3b6e0d-778a-4b39-8852-5e84a107f1a4",
   "metadata": {},
   "outputs": [],
   "source": [
    "vwtsfit <- lmFit(vwts, design, weights = vwts$weights )\n",
    "# no other weighting at this time.\n",
    " #* c(1.0,1.0,1.0,1.0,1.0,1.0,1.0,1.0))\n"
   ]
  },
  {
   "cell_type": "code",
   "execution_count": null,
   "id": "93131a9e-fc04-4c4f-9a6b-c9adcf17f032",
   "metadata": {},
   "outputs": [],
   "source": [
    "summary(vwtsfit)"
   ]
  },
  {
   "cell_type": "code",
   "execution_count": null,
   "id": "325afc7c-bd49-4078-92f7-4669a0cc22da",
   "metadata": {},
   "outputs": [],
   "source": [
    "vwtsfit <- eBayes (vwtsfit)\n",
    "vwtsfit <- treat(vwtsfit, lfc=log2(1.2))\n",
    "topTreat(vwtsfit, coef=ncol(design),sort.by=\"logFC\")"
   ]
  },
  {
   "cell_type": "code",
   "execution_count": null,
   "id": "50cc013f-cc15-4eb1-a7ef-db1f1e8065e8",
   "metadata": {},
   "outputs": [],
   "source": [
    "de_vwts_results <- topTreat(vwtsfit, coef=ncol(design), n=Inf, sort.by=\"logFC\")"
   ]
  },
  {
   "cell_type": "code",
   "execution_count": null,
   "id": "a0da4b38-769f-4965-90bb-d3271729c4d8",
   "metadata": {},
   "outputs": [],
   "source": [
    "sum(de_vwts_results[,\"logFC\"] >= 1.5)\n",
    "sum(de_vwts_results[,\"logFC\"] >= 2.0)\n",
    "sum(de_vwts_results[,\"logFC\"] >= 4.0)\n",
    "sum(de_vwts_results[,\"logFC\"] >= 8.0)\n",
    "sum(de_vwts_results[,\"logFC\"] >= 9.0)"
   ]
  },
  {
   "cell_type": "code",
   "execution_count": null,
   "id": "18dad96e-fb53-490b-9f8c-f39fbd70552f",
   "metadata": {},
   "outputs": [],
   "source": [
    "# Assuming you have the 'de_results' object from topTable\n",
    "fold_change_threshold <- 9\n",
    "adjusted_pvalue_threshold <- 0.05\n",
    "\n",
    "# Select genes that meet both fold change and adjusted p-value criteria\n",
    "significant_genes <- de_vwts_results[\n",
    "  abs(de_vwts_results$logFC) > fold_change_threshold &\n",
    "  de_vwts_results$adj.P.Val < adjusted_pvalue_threshold,\n",
    "]\n"
   ]
  },
  {
   "cell_type": "code",
   "execution_count": null,
   "id": "48454ac2-159f-41b9-aa98-6f812dc726a5",
   "metadata": {},
   "outputs": [],
   "source": [
    "dim(significant_genes)"
   ]
  },
  {
   "cell_type": "code",
   "execution_count": null,
   "id": "9858352f-cc2e-4c5f-8346-bf20f95e310d",
   "metadata": {},
   "outputs": [],
   "source": [
    "transformed_expression <- vwts$E"
   ]
  },
  {
   "cell_type": "code",
   "execution_count": null,
   "id": "9ca6a13b-dbe7-41d5-8d80-b430a597f1fa",
   "metadata": {},
   "outputs": [],
   "source": [
    "dim(transformed_expression)"
   ]
  },
  {
   "cell_type": "code",
   "execution_count": null,
   "id": "8884eee5-03f1-409c-a25c-8001c9390c83",
   "metadata": {},
   "outputs": [],
   "source": [
    "significant_transformed_expression <- transformed_expression[rownames(significant_genes),]\n",
    "dim(significant_transformed_expression)"
   ]
  },
  {
   "cell_type": "code",
   "execution_count": null,
   "id": "96f2b735-a3f7-4ffa-a06b-eedce7b517fd",
   "metadata": {},
   "outputs": [],
   "source": [
    "featureData[head(rownames(significant_transformed_expression),5),2]"
   ]
  },
  {
   "cell_type": "code",
   "execution_count": null,
   "id": "f1ad712a-0b45-491e-a7a3-a1d3ee00cf0b",
   "metadata": {},
   "outputs": [],
   "source": [
    "string_gene_list <- as.matrix(featureData[rownames(significant_genes),2])\n",
    "length(string_gene_list)\n",
    "#string_gene_list"
   ]
  },
  {
   "cell_type": "code",
   "execution_count": null,
   "id": "db718651-37df-4098-81a9-fd45c9980e5b",
   "metadata": {},
   "outputs": [],
   "source": [
    "top_significant_genes <- dge[rownames(significant_genes),]"
   ]
  },
  {
   "cell_type": "code",
   "execution_count": null,
   "id": "f9405aef-5e48-4fe6-96ca-8b5970f5aff6",
   "metadata": {},
   "outputs": [],
   "source": [
    "dim(top_significant_genes)"
   ]
  },
  {
   "cell_type": "code",
   "execution_count": null,
   "id": "f3575f36-24a1-4a0f-84b2-a74faaae20ea",
   "metadata": {},
   "outputs": [],
   "source": [
    "head(top_significant_genes,5)\n",
    "featureData[rownames(head(top_significant_genes,5)),2]"
   ]
  },
  {
   "cell_type": "code",
   "execution_count": null,
   "id": "37bc9e10-e282-48ff-9dc5-887a0c327118",
   "metadata": {},
   "outputs": [],
   "source": [
    "head(vwts,5)"
   ]
  },
  {
   "cell_type": "code",
   "execution_count": null,
   "id": "eef5585b-9f82-42d2-99db-a4bb620ec6f7",
   "metadata": {},
   "outputs": [],
   "source": [
    "library(\"pheatmap\")\n",
    "df <- as.data.frame(coldata[,c(\"condition\",\"patient\")])"
   ]
  },
  {
   "cell_type": "code",
   "execution_count": null,
   "id": "80c65d4d-8d62-4973-81db-7fcdb1a6618a",
   "metadata": {},
   "outputs": [],
   "source": [
    "out<-pheatmap(significant_transformed_expression, cluster_rows5=TRUE, show_rownames=FALSE,\n",
    "         cluster_cols=TRUE, annotation_col=df, scale=\"row\",clustering_distance_cols = \"minkowski\", clustering_distance_rows = \"minkowski\" )"
   ]
  },
  {
   "cell_type": "code",
   "execution_count": null,
   "id": "0c136b33-6a6e-45a0-bca2-c622ce2b5417",
   "metadata": {},
   "outputs": [],
   "source": [
    "head(top_genes_expression[out$tree_row$order,],3)"
   ]
  },
  {
   "cell_type": "code",
   "execution_count": null,
   "id": "fdeb66c9-ed4d-4e58-8ce0-9206895c26cc",
   "metadata": {
    "scrolled": true
   },
   "outputs": [],
   "source": [
    "top_genes_expression[out$tree_row$order[1:10],]"
   ]
  },
  {
   "cell_type": "code",
   "execution_count": null,
   "id": "6cfb9097-685a-4717-ac1a-ef0124c57e45",
   "metadata": {},
   "outputs": [],
   "source": [
    "start=1\n",
    "stop=441\n",
    "date=\"2023Aug28\"\n",
    "piece <-top_genes_expression[out$tree_row$order[start:stop],]\n",
    "fd <- data.frame(featureData[rownames(piece),])\n",
    "genejunction <- paste(featureData[rownames(piece),2],rownames(piece),sep=\".\")\n",
    "rownames(fd) <- genejunction\n",
    "rownames(piece) <- genejunction\n",
    "outpiece<-pheatmap(piece, cluster_rows5=TRUE, show_rownames=TRUE,\n",
    "         cluster_cols=TRUE, annotation_col=df, scale=\"row\",clustering_distance_cols = \"minkowski\", clustering_distance_rows = \"minkowski\" )\n",
    "piece_filename <- paste(paste(paste(paste(date,\"string_SE_gene_junction\",sep=\"_\"),start,sep=\"_\"),stop,sep=\"_\"),\"csv\",sep=\".\")\n",
    "piece_exp <- piece[,c(1,3,5,7,2,4,6,8)]\n",
    "colnames(piece_exp) <- colnames(piece[,c(1,3,5,7,2,4,6,8)])\n",
    "rownames(piece_exp) <- rownames(piece)\n",
    "string_filename <- paste(paste(paste(paste(date,\"string_SE_gene\",sep=\"_\"),start,sep=\"_\"),stop,sep=\"_\"),\"csv\",sep=\".\")\n",
    "piece_exp_filename <- paste(paste(paste(paste(date,\"SE_expression\",sep=\"_\"),start,sep=\"_\"),stop,sep=\"_\"),\"csv\",sep=\".\")\n",
    "write.csv(piece_exp$counts,piece_exp_filename,quote=FALSE)\n",
    "write.csv(rownames(piece),piece_filename,quote=FALSE,row.names=FALSE)\n",
    "write.csv(fd[,2],string_filename,quote=FALSE,row.names=FALSE)"
   ]
  },
  {
   "cell_type": "code",
   "execution_count": null,
   "id": "6dadebbc-c213-4300-b690-4c7a97107b94",
   "metadata": {},
   "outputs": [],
   "source": [
    "summary(out)"
   ]
  },
  {
   "cell_type": "code",
   "execution_count": null,
   "id": "1e67a836-307f-4bd6-b0cd-10b9552b3de0",
   "metadata": {},
   "outputs": [],
   "source": [
    "length(featureData[out$tree_row$order,2])"
   ]
  },
  {
   "cell_type": "code",
   "execution_count": null,
   "id": "3948f87d-4d0c-442a-b87f-1dd7f53a0efb",
   "metadata": {},
   "outputs": [],
   "source": [
    "save_pheatmap_pdf <- function(x, filename, width=7, height=7) {\n",
    "   stopifnot(!missing(x))\n",
    "   stopifnot(!missing(filename))\n",
    "   pdf(filename, width=width, height=height)\n",
    "   grid::grid.newpage()\n",
    "   grid::grid.draw(x$gtable)\n",
    "   dev.off()\n",
    "}\n",
    "save_pheatmap_pdf(out, \"top_genes_expression.pdf\")"
   ]
  },
  {
   "cell_type": "code",
   "execution_count": null,
   "id": "0a482bd3-45d8-44f0-ab78-975d35e1765b",
   "metadata": {},
   "outputs": [],
   "source": [
    "#Re-order original data (genes) to match ordering in heatmap (top-to-bottom)\n",
    "rn <- rownames(top_genes_expression[out$tree_row[[\"order\"]],])\n",
    "cn <- colnames(top_genes_expression[,out$tree_col[[\"order\"]]])"
   ]
  },
  {
   "cell_type": "code",
   "execution_count": null,
   "id": "2074d59a-238d-4813-9417-d4abd12b41cf",
   "metadata": {},
   "outputs": [],
   "source": [
    "#If you want something like gene-to-cluster assignment, you can 'cut' your row dendrogram into a pre-selected number of groups as follows:\n",
    "#8 groups\n",
    "clusters<- as.matrix(row_clusters<- sort(cutree(out$tree_row, k=6)),nrows=dim(top_genes_expression)[1],ncols=1)\n",
    "genes_in_clusters = featureData[rownames(clusters),2]\n",
    "genes_in_clusters.df <- data.frame(featureData[rownames(clusters),2], clusters)\n",
    "colnames(genes_in_clusters.df) <- c(\"geneSymbol\",\"cluster\")\n",
    "dim(genes_in_clusters.df)\n",
    "cluster_1_genes <- genes_in_clusters.df[genes_in_clusters.df$cluster == 1,]\n",
    "cluster_2_genes <- genes_in_clusters.df[genes_in_clusters.df$cluster == 2,]\n",
    "cluster_3_genes <- genes_in_clusters.df[genes_in_clusters.df$cluster == 3,]\n",
    "cluster_4_genes <- genes_in_clusters.df[genes_in_clusters.df$cluster == 4,]\n",
    "cluster_5_genes <- genes_in_clusters.df[genes_in_clusters.df$cluster == 5,]\n",
    "cluster_6_genes <- genes_in_clusters.df[genes_in_clusters.df$cluster == 6,]\n",
    "#cluster_7_genes <- genes_in_clusters.df[genes_in_clusters.df$cluster == 7,]\n",
    "write.csv(cluster_1_genes$geneSymbol,\"string_list_cluster_1.csv\",quote=FALSE,row.names=FALSE)\n",
    "write.csv(cluster_2_genes$geneSymbol,\"string_list_cluster_2.csv\",quote=FALSE,row.names=FALSE)\n",
    "write.csv(cluster_3_genes$geneSymbol,\"string_list_cluster_3.csv\",quote=FALSE,row.names=FALSE)\n",
    "write.csv(cluster_4_genes$geneSymbol,\"string_list_cluster_4.csv\",quote=FALSE,row.names=FALSE)\n",
    "write.csv(cluster_5_genes$geneSymbol,\"string_list_cluster_5.csv\",quote=FALSE,row.names=FALSE)\n",
    "write.csv(cluster_6_genes$geneSymbol,\"string_list_cluster_6.csv\",quote=FALSE,row.names=FALSE)\n",
    "#write.csv(cluster_7_genes$geneSymbol,\"string_list_cluster_7.csv\",quote=FALSE,row.names=FALSE)\n"
   ]
  },
  {
   "cell_type": "code",
   "execution_count": null,
   "id": "abfac5c3-f3d2-479d-8050-756aee020895",
   "metadata": {},
   "outputs": [],
   "source": [
    "#to understand the difference between AML and TAM, we will use contrasts"
   ]
  },
  {
   "cell_type": "code",
   "execution_count": null,
   "id": "a293fc78-6fed-4a94-a4fc-4c447b58f096",
   "metadata": {},
   "outputs": [],
   "source": [
    "fit2 <- eBayes(fit2)"
   ]
  },
  {
   "cell_type": "code",
   "execution_count": null,
   "id": "958c687d-4f03-4962-bbc9-b4a36606fc25",
   "metadata": {},
   "outputs": [],
   "source": [
    "topTable(fit2, adjust=\"BH\")"
   ]
  },
  {
   "cell_type": "code",
   "execution_count": null,
   "id": "e9f5cb77-1c9a-4a5d-bc6f-d1f9b26e642f",
   "metadata": {},
   "outputs": [],
   "source": [
    "de_results_fit2 <- topTable(fit2, adjust=\"BH\", n=Inf)\n",
    "dim(de_results_fit2)"
   ]
  },
  {
   "cell_type": "code",
   "execution_count": null,
   "id": "467906e9-d5d9-48f0-8a45-dbeb783a4de7",
   "metadata": {},
   "outputs": [],
   "source": [
    "results2 <- decideTests(fit2)"
   ]
  },
  {
   "cell_type": "markdown",
   "id": "06953d27-47e6-4a11-838d-5e4b810b7311",
   "metadata": {},
   "source": [
    "To permit the comparison and analysis of the group as distinguished by difference between the two conditions, TAM and AML, categorically, that is a means method.\n",
    "We do this using contrasts."
   ]
  },
  {
   "cell_type": "code",
   "execution_count": null,
   "id": "7ec5a6af-69f0-448f-8583-0786f1106ffe",
   "metadata": {},
   "outputs": [],
   "source": [
    "contrasts_fit_venn_counts <- vennCounts(results2)"
   ]
  },
  {
   "cell_type": "code",
   "execution_count": null,
   "id": "92ffda9b-4736-46aa-a404-6f088c86d8a1",
   "metadata": {},
   "outputs": [],
   "source": [
    "contrasts_fit_venn_counts"
   ]
  },
  {
   "cell_type": "code",
   "execution_count": null,
   "id": "9a9abf9f-5404-422b-939e-8c184a82bb04",
   "metadata": {},
   "outputs": [],
   "source": [
    "head(results2)"
   ]
  },
  {
   "cell_type": "code",
   "execution_count": null,
   "id": "9800a798-dda4-4248-9feb-05204ef8fe84",
   "metadata": {},
   "outputs": [],
   "source": [
    "head(de_results2)"
   ]
  },
  {
   "cell_type": "code",
   "execution_count": null,
   "id": "b10b921a-3668-4bea-ad89-878d26374128",
   "metadata": {},
   "outputs": [],
   "source": [
    "filtered_de_results2 <- de_results2[c((abs(de_results2[,c(\"AMLvsTAM\")]) > 1.5) |\n",
    "                        (abs(de_results2[,c(\"TAMvsAML\")]) > 1.5)),]"
   ]
  },
  {
   "cell_type": "code",
   "execution_count": null,
   "id": "310c8508-fd1e-44f1-9246-0a91f2572dd4",
   "metadata": {},
   "outputs": [],
   "source": [
    "filtered_de_results2"
   ]
  },
  {
   "cell_type": "code",
   "execution_count": null,
   "id": "5aa4a04c-4ccb-49c7-8658-8bcb75a1baa5",
   "metadata": {},
   "outputs": [],
   "source": []
  },
  {
   "cell_type": "code",
   "execution_count": null,
   "id": "54480680-ce55-429c-ae6d-e0e784ec47f5",
   "metadata": {},
   "outputs": [],
   "source": []
  },
  {
   "cell_type": "code",
   "execution_count": null,
   "id": "e5e25f5d-ac3d-4966-a3a6-422aa129c2da",
   "metadata": {},
   "outputs": [],
   "source": []
  }
 ],
 "metadata": {
  "kernelspec": {
   "display_name": "R",
   "language": "R",
   "name": "ir"
  },
  "language_info": {
   "codemirror_mode": "r",
   "file_extension": ".r",
   "mimetype": "text/x-r-source",
   "name": "R",
   "pygments_lexer": "r",
   "version": "4.3.1"
  }
 },
 "nbformat": 4,
 "nbformat_minor": 5
}
